{
 "cells": [
  {
   "cell_type": "code",
   "execution_count": 11,
   "id": "2ce0cea3-a645-4509-87db-36016e39b837",
   "metadata": {},
   "outputs": [],
   "source": [
    "import pandas as pd\n",
    "import numpy as np\n",
    "from collections import defaultdict\n",
    "# from sklearn.preprocessing import StandardScaler\n",
    "# from matplotlib import pyplot as plt"
   ]
  },
  {
   "cell_type": "code",
   "execution_count": 12,
   "id": "77f6e3ff-beaf-4f64-a002-bcfbc50792ed",
   "metadata": {},
   "outputs": [
    {
     "data": {
      "text/plain": [
       "'/Users/nikanizharadze/Desktop/AoA/BLE Ray-tracing Simulation Dataset'"
      ]
     },
     "execution_count": 12,
     "metadata": {},
     "output_type": "execute_result"
    }
   ],
   "source": [
    "import os\n",
    "os.getcwd()"
   ]
  },
  {
   "cell_type": "code",
   "execution_count": 13,
   "id": "b308a2bb-4f6e-4d0d-9f3a-c51e17594672",
   "metadata": {},
   "outputs": [],
   "source": [
    "pd.set_option('display.max_columns', None)\n",
    "pd.set_option('display.max_rows', None)"
   ]
  },
  {
   "cell_type": "code",
   "execution_count": 14,
   "id": "126c1976-6f2c-4711-9d88-c370aebce120",
   "metadata": {},
   "outputs": [],
   "source": [
    "rooms = ['testbench_01', 'testbench_01_furniture_low', 'testbench_01_furniture_mid', 'testbench_01_furniture_high']\n",
    "concrete_rooms = ['testbench_01_furniture_low_concrete', 'testbench_01_furniture_mid_concrete', 'testbench_01_furniture_high_concrete']\n",
    "other_scenarios = ['testbench_01_rotated_anchors']\n",
    "anchors = ['anchor1', 'anchor2', 'anchor3', 'anchor4']\n",
    "channels = ['37','38','39']\n",
    "polarities = ['V','H']"
   ]
  },
  {
   "cell_type": "code",
   "execution_count": 15,
   "id": "f817df68-5cbd-4d28-9ed6-dad6492d44ff",
   "metadata": {},
   "outputs": [
    {
     "ename": "FileNotFoundError",
     "evalue": "[Errno 2] No such file or directory: 'BLE Ray-tracing Simulation Dataset'",
     "output_type": "error",
     "traceback": [
      "\u001b[0;31m---------------------------------------------------------------------------\u001b[0m",
      "\u001b[0;31mFileNotFoundError\u001b[0m                         Traceback (most recent call last)",
      "Input \u001b[0;32mIn [15]\u001b[0m, in \u001b[0;36m<cell line: 3>\u001b[0;34m()\u001b[0m\n\u001b[1;32m      1\u001b[0m \u001b[38;5;28;01mimport\u001b[39;00m \u001b[38;5;21;01mjson\u001b[39;00m\n\u001b[1;32m      2\u001b[0m \u001b[38;5;28;01mimport\u001b[39;00m \u001b[38;5;21;01mos\u001b[39;00m\n\u001b[0;32m----> 3\u001b[0m \u001b[43mos\u001b[49m\u001b[38;5;241;43m.\u001b[39;49m\u001b[43mchdir\u001b[49m\u001b[43m(\u001b[49m\u001b[38;5;124;43m'\u001b[39;49m\u001b[38;5;124;43mBLE Ray-tracing Simulation Dataset\u001b[39;49m\u001b[38;5;124;43m'\u001b[39;49m\u001b[43m)\u001b[49m\n",
      "\u001b[0;31mFileNotFoundError\u001b[0m: [Errno 2] No such file or directory: 'BLE Ray-tracing Simulation Dataset'"
     ]
    }
   ],
   "source": [
    "import json\n",
    "import os\n",
    "os.chdir('BLE Ray-tracing Simulation Dataset')\n",
    "# os.getcwd()"
   ]
  },
  {
   "cell_type": "code",
   "execution_count": null,
   "id": "769a39ae-58a5-4f61-9568-be7a84d89358",
   "metadata": {},
   "outputs": [],
   "source": [
    "#read data\n",
    "data = defaultdict(lambda: defaultdict(lambda: defaultdict (lambda: defaultdict(list))))\n",
    "anchor_data = defaultdict(lambda: defaultdict(lambda: defaultdict (lambda: defaultdict(list))))\n",
    "\n",
    "for room in rooms + concrete_rooms + other_scenarios: \n",
    "    for channel in channels:  \n",
    "        for polarity in polarities: \n",
    "             \n",
    "            tag_filename = f'{room}/tag_ml_export_CH{channel}_{polarity}.json'\n",
    "            tag_df = pd.read_json(tag_filename, orient='records')\n",
    "\n",
    "            anchor_filename = f'{room}/anchor_ml_export_CH{channel}_{polarity}.json'\n",
    "            anchor_df = pd.read_json(anchor_filename, orient='records')\n",
    "\n",
    "            df = tag_df.merge(anchor_df)\n",
    "\n",
    "            # remove calibration points\n",
    "            df.drop(df[(df['x_tag']==0).values | (df['y_tag']==0).values | (df['z_tag']==0).values].index, inplace=True)\n",
    "            \n",
    "            for anchor in anchors:\n",
    "                data[room][anchor][channel][polarity] = df[df['anchor']==int(anchor[-1])]\n",
    "                anchor_data[room][anchor][channel][polarity] = anchor_df\n",
    "                \n",
    "                "
   ]
  },
  {
   "cell_type": "code",
   "execution_count": 16,
   "id": "42e4647a-3d46-4a54-8913-a9701281f076",
   "metadata": {},
   "outputs": [],
   "source": [
    "df = pd.DataFrame()\n",
    "final_df = pd.DataFrame()\n",
    "for room in rooms:\n",
    "    for anchor in anchors:\n",
    "        for channel in channels:\n",
    "            for polarity in ['V', 'H']:\n",
    "                for k,v in data[room][anchor][channel][polarity].items():\n",
    "                    temp = pd.DataFrame(v)\n",
    "                    df = pd.concat([df, v],axis=1)\n",
    "                # df['anchor_name'] = anchor\n",
    "                df['polarity'] = polarity\n",
    "                df['channel'] = channel\n",
    "                df['room'] = room\n",
    "                final_df = pd.concat([df, final_df],axis=0)\n",
    "                df = pd.DataFrame()"
   ]
  },
  {
   "cell_type": "code",
   "execution_count": 20,
   "id": "f6703a40-66bc-4c9d-9748-3ff78c543ea9",
   "metadata": {},
   "outputs": [
    {
     "data": {
      "text/plain": [
       "(234912, 24)"
      ]
     },
     "execution_count": 20,
     "metadata": {},
     "output_type": "execute_result"
    }
   ],
   "source": [
    "final_df.shape"
   ]
  },
  {
   "cell_type": "code",
   "execution_count": 10,
   "id": "29e53525-7b15-4585-99b6-ca89cbae039d",
   "metadata": {},
   "outputs": [],
   "source": [
    "final_df.to_pickle('raw_IQ.pkl')"
   ]
  },
  {
   "cell_type": "code",
   "execution_count": 12,
   "id": "e5a4cc1d-6484-4d12-abb7-7aae1c1008c3",
   "metadata": {},
   "outputs": [],
   "source": [
    "anchors = ['anchor1', 'anchor2', 'anchor3', 'anchor4']\n",
    "channels = ['37','38','39']\n",
    "polarities = ['V','H']\n",
    "\n",
    "def iq_processing(data):\n",
    "    \n",
    "    \"\"\"\n",
    "    Input: Data\n",
    "    Output: Processed Data\n",
    "    Processing: Power Scaling, IQ shifting\n",
    "    \"\"\"\n",
    "\n",
    "    cols_real = ['pdda_input_real_{}'.format(x+1) for x in range(5)]\n",
    "    cols_imag = ['pdda_input_imag_{}'.format(x+1) for x in range(5)]\n",
    "\n",
    "    iq_values = pd.DataFrame(data['pdda_input_real'].tolist(), columns=cols_real, index=data.index)\n",
    "    iq_values[cols_imag] = pd.DataFrame(data['pdda_input_imag'].tolist(), columns=cols_imag, index=data.index)\n",
    "    \n",
    "    phase = pd.DataFrame(np.arctan2(iq_values['pdda_input_imag_1'],iq_values['pdda_input_real_1']), columns=['phase_1'])\n",
    "    \n",
    "    cos = np.cos(phase).values.ravel()\n",
    "    sin = np.sin(phase).values.ravel()\n",
    "    \n",
    "    out = data.copy()\n",
    "    iq_ref = np.abs(iq_values[f'pdda_input_real_1']*cos + iq_values[f'pdda_input_imag_1']*sin)\n",
    "    for i in range(1,6):\n",
    "        out[f'pdda_input_real_{i}'] = (iq_values[f'pdda_input_real_{i}']*cos + iq_values[f'pdda_input_imag_{i}']*sin)\n",
    "        out[f'pdda_input_imag_{i}'] = (-iq_values[f'pdda_input_real_{i}']*sin + iq_values[f'pdda_input_imag_{i}']*cos)\n",
    "        iq_ref +=  iq_values[f'pdda_input_real_{i}']**2 + iq_values[f'pdda_input_imag_{i}']**2\n",
    "\n",
    "    power_norm =  StandardScaler().fit_transform((out['reference_power'] + out['relative_power']).values.reshape(-1,1))/10\n",
    "    \n",
    "    # out.insert(22, 'power', power_norm)\n",
    "    # out.insert(21, 'iq_ref', iq_ref)\n",
    "    out['power'] = power_norm\n",
    "    out['iq_ref'] = iq_ref\n",
    "    out.drop(columns=['pdda_input_imag_1', 'pdda_input_real', 'pdda_input_imag'], inplace=True)\n",
    "\n",
    "    return out"
   ]
  },
  {
   "cell_type": "code",
   "execution_count": 13,
   "id": "6009ab7a-88d5-4e3c-9f3e-af89f12748df",
   "metadata": {},
   "outputs": [],
   "source": [
    "df = iq_processing(final_df)"
   ]
  },
  {
   "cell_type": "code",
   "execution_count": 14,
   "id": "41f48c9f-5b0b-4fb9-884e-bb5546b8899e",
   "metadata": {},
   "outputs": [],
   "source": [
    "df.sort_values(['point', 'anchor', 'room', 'channel'], inplace=True)\n",
    "# df.reset_index(inplace=True)"
   ]
  },
  {
   "cell_type": "code",
   "execution_count": 15,
   "id": "53e009a6-8f43-4b3e-9ddf-bbf6ac477818",
   "metadata": {},
   "outputs": [],
   "source": [
    "df = df.sort_values(['point', 'anchor', 'channel', 'room'])\n",
    "df['mask'] = df['reference_power'] + df['relative_power']\n",
    "df = df.sort_values(['point', 'anchor', 'channel', 'room', 'mask'])\n",
    "# select to use either Vertical or Horizontal polarity based on reference and relative power\n",
    "df = df.drop_duplicates(subset=['point', 'anchor', 'channel','room'], keep='first')"
   ]
  },
  {
   "cell_type": "code",
   "execution_count": 1,
   "id": "ebf75e56-1818-4bcc-ac96-967dc5de4318",
   "metadata": {},
   "outputs": [
    {
     "ename": "NameError",
     "evalue": "name 'df' is not defined",
     "output_type": "error",
     "traceback": [
      "\u001b[0;31m---------------------------------------------------------------------------\u001b[0m",
      "\u001b[0;31mNameError\u001b[0m                                 Traceback (most recent call last)",
      "Input \u001b[0;32mIn [1]\u001b[0m, in \u001b[0;36m<cell line: 1>\u001b[0;34m()\u001b[0m\n\u001b[0;32m----> 1\u001b[0m \u001b[43mdf\u001b[49m\u001b[38;5;241m.\u001b[39mdescribe\n",
      "\u001b[0;31mNameError\u001b[0m: name 'df' is not defined"
     ]
    }
   ],
   "source": [
    "df.describe"
   ]
  },
  {
   "cell_type": "code",
   "execution_count": 72,
   "id": "75113f3a-9793-4988-827d-0498dea0122f",
   "metadata": {},
   "outputs": [],
   "source": [
    "df.to_pickle('df.pkl')"
   ]
  },
  {
   "cell_type": "code",
   "execution_count": 19,
   "id": "326fdd83-a450-44a0-b4df-d4740b398672",
   "metadata": {},
   "outputs": [
    {
     "data": {
      "text/plain": [
       "(117456, 34)"
      ]
     },
     "execution_count": 19,
     "metadata": {},
     "output_type": "execute_result"
    }
   ],
   "source": [
    "df.shape"
   ]
  },
  {
   "cell_type": "code",
   "execution_count": null,
   "id": "e42b8073-aba5-4cbe-9985-1129de2ea113",
   "metadata": {},
   "outputs": [],
   "source": []
  }
 ],
 "metadata": {
  "kernelspec": {
   "display_name": "Python 3 (ipykernel)",
   "language": "python",
   "name": "python3"
  },
  "language_info": {
   "codemirror_mode": {
    "name": "ipython",
    "version": 3
   },
   "file_extension": ".py",
   "mimetype": "text/x-python",
   "name": "python",
   "nbconvert_exporter": "python",
   "pygments_lexer": "ipython3",
   "version": "3.10.4"
  }
 },
 "nbformat": 4,
 "nbformat_minor": 5
}
