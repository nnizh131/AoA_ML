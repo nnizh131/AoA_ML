{
 "cells": [
  {
   "cell_type": "code",
   "execution_count": 1,
   "id": "9981e72c-1b09-4987-adde-31dd57fe3483",
   "metadata": {},
   "outputs": [
    {
     "name": "stdout",
     "output_type": "stream",
     "text": [
      "['/Users/nikanizharadze/Desktop/AoA/nnom/examples/test', '/Users/nikanizharadze/opt/anaconda3/envs/AoA/lib/python310.zip', '/Users/nikanizharadze/opt/anaconda3/envs/AoA/lib/python3.10', '/Users/nikanizharadze/opt/anaconda3/envs/AoA/lib/python3.10/lib-dynload', '', '/Users/nikanizharadze/opt/anaconda3/envs/AoA/lib/python3.10/site-packages', '/Users/nikanizharadze/opt/anaconda3/envs/AoA/lib/python3.10/site-packages/PyYAML-6.0-py3.10-macosx-10.9-x86_64.egg', '/Users/nikanizharadze/Desktop/AoA/nnom/scripts']\n"
     ]
    },
    {
     "name": "stderr",
     "output_type": "stream",
     "text": [
      "/Users/nikanizharadze/opt/anaconda3/envs/AoA/lib/python3.10/site-packages/tqdm/auto.py:22: TqdmWarning: IProgress not found. Please update jupyter and ipywidgets. See https://ipywidgets.readthedocs.io/en/stable/user_install.html\n",
      "  from .autonotebook import tqdm as notebook_tqdm\n"
     ]
    }
   ],
   "source": [
    "import sys\n",
    "import os\n",
    "sys.path.append(os.path.abspath(\"/Users/nikanizharadze/Desktop/AoA/nnom/scripts\"))\n",
    "print(sys.path)\n",
    "\n",
    "from tensorflow.keras import *\n",
    "from tensorflow.keras.datasets import mnist\n",
    "from tensorflow.keras.layers import *\n",
    "from tensorflow.keras.activations import *\n",
    "from tensorflow.keras.models import load_model, save_model\n",
    "import tensorflow as tf\n",
    "import numpy as np\n",
    "from nnom import *\n",
    "import torch.nn as nn\n",
    "import matplotlib.pyplot as plt\n",
    "\n",
    "# from nnom.scripts import nnom_utils, nnom\n",
    "# from nnom.scripts.nnom_utils import generate_test_bin\n",
    "# from nnom.scripts.nnom import evaluate_model\n",
    "# from nnom.scripts.nnom import generate_model"
   ]
  },
  {
   "cell_type": "code",
   "execution_count": 2,
   "id": "fd9b20cf-050c-43f4-8189-bce4439f471f",
   "metadata": {},
   "outputs": [],
   "source": [
    "import pandas as pd\n",
    "import numpy as np\n",
    "from sklearn.preprocessing import StandardScaler\n",
    "from torch.utils.data import TensorDataset, DataLoader\n",
    "import matplotlib.pyplot as plt\n",
    "from matplotlib.pyplot import figure\n",
    "import seaborn as sns\n",
    "from pyargus import directionEstimation as de\n",
    "import pandas as pd\n",
    "from sklearn import preprocessing\n",
    "from sklearn.utils import shuffle\n",
    "from sklearn.model_selection import train_test_split\n",
    "from sklearn.model_selection import GroupShuffleSplit\n",
    "from sklearn.metrics import mean_absolute_error"
   ]
  },
  {
   "cell_type": "code",
   "execution_count": 3,
   "id": "d504d4e5-01dc-45b4-a98d-6313f5ed8f5a",
   "metadata": {},
   "outputs": [
    {
     "data": {
      "text/plain": [
       "'/Users/nikanizharadze/Desktop/AoA/nnom/examples/test'"
      ]
     },
     "execution_count": 3,
     "metadata": {},
     "output_type": "execute_result"
    }
   ],
   "source": [
    "os.getcwd()"
   ]
  },
  {
   "cell_type": "code",
   "execution_count": 4,
   "id": "40d6a045-0073-4754-bd2a-a74b215fe273",
   "metadata": {},
   "outputs": [],
   "source": [
    "# torch.manual_seed(42)\n",
    "np.random.seed(42)"
   ]
  },
  {
   "cell_type": "code",
   "execution_count": 5,
   "id": "d4d8c837-7938-48aa-a7b6-265ca13d9ed4",
   "metadata": {},
   "outputs": [],
   "source": [
    "params = {\n",
    "    \"test_size\":0.33,\n",
    "    \"random_state\":42,\n",
    "    \"splits\":3,\n",
    "    \n",
    "}"
   ]
  },
  {
   "cell_type": "code",
   "execution_count": 6,
   "id": "09658a4f-fc31-4de0-be73-2fedad6da864",
   "metadata": {},
   "outputs": [],
   "source": [
    "df = pd.read_pickle(\"/Users/nikanizharadze/Desktop/AoA/raw_IQ.pkl\")\n",
    "df.sort_values(['point', 'anchor', 'room', 'channel'], inplace=True)"
   ]
  },
  {
   "cell_type": "code",
   "execution_count": 7,
   "id": "49ffebe6-df2d-4dc6-8b09-093fa970afd7",
   "metadata": {},
   "outputs": [],
   "source": [
    "cols2 = ['pdda_input_imag1','pdda_input_imag2','pdda_input_imag3','pdda_input_imag4','pdda_input_imag5']\n",
    "cols1 = ['pdda_input_real1','pdda_input_real2','pdda_input_real3','pdda_input_real4','pdda_input_real5']\n",
    "\n",
    "def unpack(row):\n",
    "    a,b,c,d,e = row\n",
    "    return a,b,c,d,e\n",
    "    \n",
    "df[cols1] = df.apply(lambda row: unpack(row['pdda_input_real']), axis=1, result_type='expand')\n",
    "df[cols2] = df.apply(lambda row: unpack(row['pdda_input_imag']), axis=1, result_type='expand')"
   ]
  },
  {
   "cell_type": "code",
   "execution_count": 8,
   "id": "a1f30486-a0bd-472f-bb10-9b5d7276e1f2",
   "metadata": {},
   "outputs": [],
   "source": [
    "min_max_scaler = StandardScaler()\n",
    "df[cols2] = min_max_scaler.fit_transform(df[cols2])\n",
    "df[cols1] = min_max_scaler.fit_transform(df[cols1])"
   ]
  },
  {
   "cell_type": "code",
   "execution_count": 9,
   "id": "8ed01254-95df-4015-817b-d8543d7eb707",
   "metadata": {},
   "outputs": [],
   "source": [
    "cols3 = ['element1','element2','element3','element4','element5']\n",
    "def complexify(reals,imags):\n",
    "    complexs = []\n",
    "    for i in range(len(reals)):\n",
    "        complexs.append(reals[i] + 1j*imags[i])\n",
    "    a,b,c,d,e = complexs\n",
    "    return a,b,c,d,e\n",
    "\n",
    "df[cols3] = df.apply(lambda row: complexify(row[cols1], row[cols2]), axis=1, result_type='expand')"
   ]
  },
  {
   "cell_type": "code",
   "execution_count": 10,
   "id": "71c77ca3-dac4-401d-ac46-e79beb69091d",
   "metadata": {},
   "outputs": [],
   "source": [
    "# d = 0.5 # Inter element spacing [lambda]\n",
    "M = 5  # number of antenna elements in the antenna system (ULA)\n",
    "N = 6  # sample size used for the simulation  \n",
    "M0 = 5\n",
    "def construct_R(df):\n",
    "    cols = ['element1','element2','element3','element4','element5']\n",
    "    grouped = df.groupby(['room','anchor', 'point'],as_index=False)\n",
    "    outputs = []\n",
    "    inputs = []\n",
    "    x_loc = []\n",
    "    y_loc = []\n",
    "    pts = []\n",
    "    pdda = []\n",
    "    counter = 0\n",
    "    for group, tdf in grouped:\n",
    "        soi_matrix = tdf[cols].values.T\n",
    "        noise = np.random.normal(0,np.sqrt(10**-1),(M,N))\n",
    "        rec_signal = soi_matrix + noise \n",
    "        new_R = de.corr_matrix_estimate(rec_signal.T, imp=\"mem_eff\")\n",
    "        new_R_real = new_R.real\n",
    "        new_R_imag = new_R.imag\n",
    "\n",
    "        data_arr = np.append(new_R_real.reshape(M0, M0, 1), new_R_imag.reshape(M0, M0, 1), axis=2)\n",
    "        assert tdf['true_phi'].values[0] == tdf['true_phi'].values[1] == tdf['true_phi'].values[2] == tdf['true_phi'].values[3]\n",
    "        assert tdf['true_phi'].values[3] == tdf['true_phi'].values[4] == tdf['true_phi'].values[5] \n",
    "        assert tdf['x_tag'].values[0] == tdf['x_tag'].values[1] == tdf['x_tag'].values[2] == tdf['x_tag'].values[3]\n",
    "        assert tdf['x_tag'].values[3] == tdf['x_tag'].values[4] == tdf['x_tag'].values[5] \n",
    "        assert tdf['y_tag'].values[0] == tdf['y_tag'].values[1] == tdf['y_tag'].values[2] == tdf['y_tag'].values[3]\n",
    "        assert tdf['y_tag'].values[3] == tdf['y_tag'].values[4] == tdf['y_tag'].values[5] \n",
    "        outputs.append(tdf['true_phi'].values[0])\n",
    "        x_loc.append(tdf['x_tag'].values[0])\n",
    "        y_loc.append(tdf['y_tag'].values[0])\n",
    "        pts.append(np.random.choice(tdf['point'].values,1))\n",
    "        pdda.append(np.random.choice(tdf['pdda_phi'].values,1))\n",
    "        inputs.append(data_arr)\n",
    "    \n",
    "    outputs = np.asarray(outputs)\n",
    "    inputs = np.asarray(inputs)\n",
    "    return (inputs,outputs,x_loc,y_loc, pts, pdda)"
   ]
  },
  {
   "cell_type": "code",
   "execution_count": 11,
   "id": "e844d0de-0732-420a-9cea-92ab8bb5de6a",
   "metadata": {},
   "outputs": [],
   "source": [
    "# class DeepAoA(nn.Module):\n",
    "#     input_channels = 2\n",
    "#     channels_conv1 = 512\n",
    "#     kernel_conv1 = [3, 3]\n",
    "    \n",
    "#     def __init__(self):\n",
    "#         super(DeepAoA, self).__init__()\n",
    "#         self.conv1 = nn.Conv2d(self.input_channels, self.channels_conv1, self.kernel_conv1)\n",
    "#         self.b1 = nn.BatchNorm2d(self.channels_conv1)\n",
    "#         self.fc1 = nn.Linear(512, 1024) \n",
    "#         self.fc2 = nn.Linear(1024, 1024) \n",
    "#         self.fc3 = nn.Linear(1024, 512)\n",
    "#         self.fc4 = nn.Linear(512, 1)\n",
    "#         self.dropout = nn.Dropout(0.2)\n",
    "\n",
    "#     def forward(self,x):\n",
    "#         out = self.conv1(x)\n",
    "#         out = self.b1(out)\n",
    "#         out = F.relu(out)\n",
    "#         out = F.max_pool2d(out, (2,2))\n",
    "#         out = torch.flatten(out, 1)\n",
    "#         out = self.fc1(out)\n",
    "#         out = F.relu(out)\n",
    "#         out = self.dropout(out)\n",
    "#         out = self.fc2(out)\n",
    "#         out = F.relu(out)\n",
    "#         out = self.dropout(out)\n",
    "#         out = self.fc3(out)\n",
    "#         out = F.relu(out)\n",
    "#         out = self.dropout(out)\n",
    "#         out = self.fc4(out)\n",
    "#         return out\n",
    "from keras.models import Model\n",
    "import keras\n",
    "def build_CR0(feature_dim=(5, 5, 2), num_classes=1, regress1=1, regress2=1):\n",
    "    x = Input(shape=feature_dim)\n",
    "    c1 = Conv2D(512, kernel_size=(3, 3), padding='valid', strides=(1, 1), activation=None)(x)\n",
    "    b1 = BatchNormalization()(c1)\n",
    "    b2 = Activation(\"relu\")(b1)\n",
    "    c2 = MaxPooling2D(pool_size=(2, 2))(b2)\n",
    "    c2 = Reshape((512,))(c2)\n",
    "    h2 = Dense(1024, activation='relu')(c2)\n",
    "    h3 = Dense(256, activation='relu')(h2)\n",
    "    h4 = Dense(128, activation='relu')(h3)\n",
    "\n",
    "\n",
    "#     # Regression of 1-signal\n",
    "    r1 = Dense(1)(h4)\n",
    "\n",
    "\n",
    "    model = Model(inputs=x, outputs=[r1], name=\"deepaoanet1\")\n",
    "\n",
    "    optimizer = keras.optimizers.Adam(learning_rate=0.001, decay=1e-5)\n",
    "    losses = {\n",
    "        \"regress1_out\": keras.losses.MeanAbsoluteError(),\n",
    "    }\n",
    "\n",
    "    metrics = {\"regress1_out\": 'mse'}\n",
    "\n",
    "    model.compile(optimizer=optimizer,\n",
    "                      loss=keras.losses.MeanSquaredError())\n",
    "    # model.summary()\n",
    "\n",
    "    return model"
   ]
  },
  {
   "cell_type": "code",
   "execution_count": 12,
   "id": "9f893e4a-219e-4441-8ecf-83a520b23c65",
   "metadata": {},
   "outputs": [],
   "source": [
    "def train_room(room):\n",
    "    environment = df[df['room'] == room]\n",
    "    results = pd.DataFrame()\n",
    "    true_phi = []\n",
    "    model_preds = []\n",
    "    pdda_preds = []\n",
    "    anchor_val = []\n",
    "    x_locs = []\n",
    "    y_locs = []\n",
    "    pts = []\n",
    "\n",
    "    for anchor in [1.0, 2.0, 3.0, 4.0]:\n",
    "        anchor_df = environment.loc[environment['anchor'] == anchor]\n",
    "        X = anchor_df.loc[:, anchor_df.columns != 'true_phi'].values\n",
    "        y = anchor_df['true_phi'].values\n",
    "        gss = GroupShuffleSplit(n_splits=params[\"splits\"], test_size=params[\"test_size\"], random_state=params[\"random_state\"])\n",
    "        fold = 1\n",
    "        avg_mae = 0\n",
    "        for train_idx, test_idx in gss.split(X, y, groups=anchor_df.point):\n",
    "            train = anchor_df.iloc[train_idx]\n",
    "            test = anchor_df.iloc[test_idx]\n",
    "            assert round(test.shape[0]/(train.shape[0]+test.shape[0]), 2) == params[\"test_size\"]\n",
    "            assert len(set(train.point) & set(test.point)) == 0\n",
    "            X_train, y_train, _, _, _, _ = construct_R(train)\n",
    "            X_train, y_train = shuffle(X_train, y_train, random_state=1)\n",
    "            X_test, y_test, x_loc, y_loc, points, pdda = construct_R(test) \n",
    "\n",
    "\n",
    "            # X_train = X_train.reshape(X_train.shape[0],2,5,5)\n",
    "            # X_test = X_test.reshape(X_test.shape[0],2,5,5)\n",
    "            train_x = X_train.astype(np.float32)\n",
    "            train_y = y_train.astype(np.float32)\n",
    "            \n",
    "\n",
    "            test_x = X_test.astype(np.float32)\n",
    "            test_y = y_test.astype(np.float32)\n",
    "\n",
    "            # X_test, y_test, x_loc, y_loc, pdda = construct_R(test) \n",
    "            model = build_CR0()\n",
    "            criterion = nn.MSELoss()\n",
    "            # optimizer = optim.Adam(aoa.parameters(),lr=0.001)\n",
    "            test_accu = []\n",
    "            train_accu = []\n",
    "            model.fit(X_train, y_train, batch_size=512, epochs=100, verbose=0)\n",
    "            # for i in range(100):\n",
    "            #     train_model(i, aoa, train_dataloader, optimizer)\n",
    "            #     test_model(i, aoa, test_dataloader)\n",
    "            \n",
    "\n",
    "\n",
    "            predicted_outputs = model.predict(X_test) \n",
    "            \n",
    "            # print(predicted_outputs)\n",
    "            temp_preds = predicted_outputs[:,0].tolist()\n",
    "            # print(temp_preds)\n",
    "            true_phis = y_test.tolist()\n",
    "\n",
    "            for i in range(len(temp_preds)):\n",
    "                model_preds.append(temp_preds[i])\n",
    "                pdda_preds.append(pdda[i][0])\n",
    "                true_phi.append(true_phis[i])\n",
    "                pts.append(points[i][0])\n",
    "                x_locs.append(x_loc[i])\n",
    "                y_locs.append(y_loc[i])\n",
    "\n",
    "                anchor_val.append(anchor)\n",
    "\n",
    "    results['pdda'] = pdda_preds\n",
    "    results['true_phi'] = true_phi\n",
    "    results['x_loc'] = x_locs\n",
    "    results['y_loc'] = y_locs\n",
    "    results['point'] = pts\n",
    "    results['anchor'] = anchor_val\n",
    "    results['aoanet'] = model_preds\n",
    "    return results"
   ]
  },
  {
   "cell_type": "code",
   "execution_count": 13,
   "id": "bb36f4c9-7a88-46a8-8840-ef6e47a1ec95",
   "metadata": {},
   "outputs": [],
   "source": [
    "def calculate_mae_errors(results):\n",
    "    # calculate average mae errors over all anchors\n",
    "    grouped = results.groupby(['point','anchor'],as_index=False)\n",
    "    avg_errors = pd.DataFrame()\n",
    "\n",
    "    for group, tdf in grouped:\n",
    "        p_df = pd.DataFrame()\n",
    "        maes_aoanet = []\n",
    "        maes_pdda = []\n",
    "        x_locs = []\n",
    "        y_locs = []\n",
    "        maes_pdda.append(mean_absolute_error([np.mean(tdf['pdda'].values)], [tdf['true_phi'].values[0]]))\n",
    "\n",
    "       \n",
    "        maes_aoanet.append(mean_absolute_error([np.mean(tdf['aoanet'].values)], [tdf['true_phi'].values[0]]))\n",
    "        x_locs.append(tdf['x_loc'].values[0])\n",
    "        y_locs.append(tdf['y_loc'].values[0])\n",
    "\n",
    "        p_df['MAE_pdda'] = maes_pdda\n",
    "\n",
    "        p_df['MAE_aoanet'] = maes_aoanet\n",
    "        p_df['x_loc'] = x_locs\n",
    "        p_df['y_loc'] = y_locs\n",
    "\n",
    "        avg_errors = pd.concat([avg_errors, p_df])\n",
    "    return avg_errors\n",
    "            \n"
   ]
  },
  {
   "cell_type": "code",
   "execution_count": 14,
   "id": "933e9824-78a5-4039-8a8d-2881e91888ae",
   "metadata": {},
   "outputs": [],
   "source": [
    "def all_environments():\n",
    "    rooms = ['testbench_01', 'testbench_01_furniture_low', 'testbench_01_furniture_mid', 'testbench_01_furniture_high']\n",
    "\n",
    "    result = pd.DataFrame()\n",
    "\n",
    "    for room in rooms:\n",
    "\n",
    "        results = train_room(room)\n",
    "\n",
    "        avg_errors = calculate_mae_errors(results)\n",
    "\n",
    "        col_names = ['MAE_pdda', 'MAE_aoanet']\n",
    "        model_names = ['pdda', 'aoanet']\n",
    "\n",
    "        result.index = model_names\n",
    "        errors = list(avg_errors[col_names].mean().values)\n",
    "        result[room] = errors\n",
    "    return result\n",
    "    "
   ]
  },
  {
   "cell_type": "code",
   "execution_count": 15,
   "id": "cb28035a-fabf-4258-a1a6-b53b976d7694",
   "metadata": {},
   "outputs": [
    {
     "name": "stderr",
     "output_type": "stream",
     "text": [
      "2022-12-15 09:49:40.118930: I tensorflow/core/platform/cpu_feature_guard.cc:193] This TensorFlow binary is optimized with oneAPI Deep Neural Network Library (oneDNN) to use the following CPU instructions in performance-critical operations:  SSE4.1 SSE4.2\n",
      "To enable them in other operations, rebuild TensorFlow with the appropriate compiler flags.\n"
     ]
    },
    {
     "name": "stdout",
     "output_type": "stream",
     "text": [
      "26/26 [==============================] - 0s 3ms/step\n",
      "26/26 [==============================] - 0s 4ms/step\n",
      "26/26 [==============================] - 0s 3ms/step\n",
      "26/26 [==============================] - 0s 4ms/step\n",
      "26/26 [==============================] - 0s 3ms/step\n",
      "26/26 [==============================] - 0s 13ms/step\n",
      "26/26 [==============================] - 0s 5ms/step\n",
      "26/26 [==============================] - 0s 4ms/step\n",
      "26/26 [==============================] - 0s 3ms/step\n",
      "26/26 [==============================] - 0s 4ms/step\n",
      "26/26 [==============================] - 0s 4ms/step\n",
      "26/26 [==============================] - 0s 3ms/step\n",
      "26/26 [==============================] - 0s 3ms/step\n",
      "26/26 [==============================] - 0s 3ms/step\n",
      "26/26 [==============================] - 0s 3ms/step\n",
      "26/26 [==============================] - 0s 3ms/step\n",
      "26/26 [==============================] - 0s 3ms/step\n",
      "26/26 [==============================] - 0s 5ms/step\n",
      "26/26 [==============================] - 0s 5ms/step\n",
      "26/26 [==============================] - 0s 6ms/step\n",
      "26/26 [==============================] - 0s 5ms/step\n",
      "26/26 [==============================] - 0s 6ms/step\n",
      "26/26 [==============================] - 0s 5ms/step\n",
      "26/26 [==============================] - 0s 3ms/step\n",
      "26/26 [==============================] - 0s 8ms/step\n",
      "26/26 [==============================] - 0s 6ms/step\n",
      "26/26 [==============================] - 0s 5ms/step\n",
      "26/26 [==============================] - 0s 6ms/step\n",
      "26/26 [==============================] - 0s 5ms/step\n",
      "26/26 [==============================] - 0s 5ms/step\n",
      "26/26 [==============================] - 0s 5ms/step\n",
      "26/26 [==============================] - 0s 6ms/step\n",
      "26/26 [==============================] - 0s 4ms/step\n",
      "26/26 [==============================] - 0s 5ms/step\n",
      "26/26 [==============================] - 0s 6ms/step\n",
      "26/26 [==============================] - 0s 4ms/step\n",
      "26/26 [==============================] - 0s 6ms/step\n",
      "26/26 [==============================] - 0s 5ms/step\n",
      "26/26 [==============================] - 0s 5ms/step\n",
      "26/26 [==============================] - 0s 6ms/step\n",
      "26/26 [==============================] - 0s 6ms/step\n",
      "26/26 [==============================] - 0s 5ms/step\n",
      "26/26 [==============================] - 0s 5ms/step\n",
      "26/26 [==============================] - 0s 6ms/step\n",
      "26/26 [==============================] - 0s 4ms/step\n",
      "26/26 [==============================] - 0s 6ms/step\n",
      "26/26 [==============================] - 0s 4ms/step\n",
      "26/26 [==============================] - 0s 4ms/step\n"
     ]
    }
   ],
   "source": [
    "result = all_environments()"
   ]
  },
  {
   "cell_type": "code",
   "execution_count": 16,
   "id": "b76bdefc-423b-4ce6-9e6e-aea0d79f873e",
   "metadata": {},
   "outputs": [
    {
     "data": {
      "text/html": [
       "<div>\n",
       "<style scoped>\n",
       "    .dataframe tbody tr th:only-of-type {\n",
       "        vertical-align: middle;\n",
       "    }\n",
       "\n",
       "    .dataframe tbody tr th {\n",
       "        vertical-align: top;\n",
       "    }\n",
       "\n",
       "    .dataframe thead th {\n",
       "        text-align: right;\n",
       "    }\n",
       "</style>\n",
       "<table border=\"1\" class=\"dataframe\">\n",
       "  <thead>\n",
       "    <tr style=\"text-align: right;\">\n",
       "      <th></th>\n",
       "      <th>testbench_01</th>\n",
       "      <th>testbench_01_furniture_low</th>\n",
       "      <th>testbench_01_furniture_mid</th>\n",
       "      <th>testbench_01_furniture_high</th>\n",
       "    </tr>\n",
       "  </thead>\n",
       "  <tbody>\n",
       "    <tr>\n",
       "      <th>pdda</th>\n",
       "      <td>10.075388</td>\n",
       "      <td>10.180979</td>\n",
       "      <td>11.048917</td>\n",
       "      <td>10.976562</td>\n",
       "    </tr>\n",
       "    <tr>\n",
       "      <th>aoanet</th>\n",
       "      <td>7.611919</td>\n",
       "      <td>7.621837</td>\n",
       "      <td>7.898845</td>\n",
       "      <td>8.329762</td>\n",
       "    </tr>\n",
       "  </tbody>\n",
       "</table>\n",
       "</div>"
      ],
      "text/plain": [
       "        testbench_01  testbench_01_furniture_low  testbench_01_furniture_mid  \\\n",
       "pdda       10.075388                   10.180979                   11.048917   \n",
       "aoanet      7.611919                    7.621837                    7.898845   \n",
       "\n",
       "        testbench_01_furniture_high  \n",
       "pdda                      10.976562  \n",
       "aoanet                     8.329762  "
      ]
     },
     "execution_count": 16,
     "metadata": {},
     "output_type": "execute_result"
    }
   ],
   "source": [
    "result.head()"
   ]
  },
  {
   "cell_type": "code",
   "execution_count": null,
   "id": "e22813c3-6303-4baa-bd14-4192fe015723",
   "metadata": {},
   "outputs": [],
   "source": []
  },
  {
   "cell_type": "code",
   "execution_count": 130,
   "id": "b777c5eb-0c5f-44dc-989f-049e2af8e17d",
   "metadata": {},
   "outputs": [
    {
     "name": "stdout",
     "output_type": "stream",
     "text": [
      "input_3 Quantized method: max-min  Values max: 45.05377444744187 min: -40.137797085620775 dec bit 1\n",
      "77/77 [==============================] - 0s 485us/step\n",
      "conv2d_2 Quantized method: max-min  Values max: 402.8918 min: -499.505 dec bit -2\n",
      "77/77 [==============================] - 0s 514us/step\n",
      "batch_normalization_2 Quantized method: max-min  Values max: 1786.2064 min: -2158.8486 dec bit -5\n",
      "activation_2 Quantized method: max-min  Values max: 1786.2064 min: -2158.8486 dec bit -5\n",
      "max_pooling2d_2 Quantized method: max-min  Values max: 1786.2064 min: -2158.8486 dec bit -5\n",
      "reshape_2 Quantized method: max-min  Values max: 1786.2064 min: -2158.8486 dec bit -5\n",
      "77/77 [==============================] - 0s 1ms/step\n",
      "dense_5 Quantized method: max-min  Values max: 2811.488 min: 0.0 dec bit -5\n",
      "77/77 [==============================] - 0s 1ms/step\n",
      "dense_6 Quantized method: max-min  Values max: 10613.78 min: -4390.298 dec bit -7\n",
      "quantisation list {'input_3': [1, 0], 'conv2d_2': [-5, 0], 'batch_normalization_2': [-5, 0], 'activation_2': [-5, 0], 'max_pooling2d_2': [-5, 0], 'reshape_2': [-5, 0], 'dense_5': [-5, 0], 'dense_6': [-7, 0]}\n",
      "fusing batch normalization to conv2d_2\n",
      "original weight max 8.8069515 min -9.707218\n",
      "original bias max 16.87987 min -13.529302\n",
      "fused weight max 46.146492 min -47.41683\n",
      "fused bias max 79.88457 min -53.854034\n",
      "quantizing weights for layer conv2d_2\n",
      "    tensor_conv2d_2_kernel_0 dec bit 1\n",
      "    tensor_conv2d_2_bias_0 dec bit 0\n",
      "quantizing weights for layer batch_normalization_2\n",
      "quantizing weights for layer dense_5\n",
      "    tensor_dense_5_kernel_0 dec bit 9\n",
      "    tensor_dense_5_bias_0 dec bit 9\n",
      "quantizing weights for layer dense_6\n",
      "    tensor_dense_6_kernel_0 dec bit 9\n",
      "    tensor_dense_6_bias_0 dec bit 12\n"
     ]
    }
   ],
   "source": [
    "generate_model(model, X_test, format='chw', per_channel_quant=False, name=\"weights.h\")"
   ]
  },
  {
   "cell_type": "code",
   "execution_count": 113,
   "id": "617fca2d-0903-436b-9dfe-4f052e022d8c",
   "metadata": {},
   "outputs": [
    {
     "ename": "IndentationError",
     "evalue": "unexpected indent (3734688587.py, line 2)",
     "output_type": "error",
     "traceback": [
      "\u001b[0;36m  Input \u001b[0;32mIn [113]\u001b[0;36m\u001b[0m\n\u001b[0;31m    0.14712929,  0.18455696,  0.37974169,  0.01303891,  0.04915508,\u001b[0m\n\u001b[0m    ^\u001b[0m\n\u001b[0;31mIndentationError\u001b[0m\u001b[0;31m:\u001b[0m unexpected indent\n"
     ]
    }
   ],
   "source": [
    "0.57774243,  0.        ,  0.51537396,  0.02233177,  0.14946041,\n",
    "0.14712929,  0.18455696,  0.37974169,  0.01303891,  0.04915508,\n",
    "0.51537396, -0.02233177,  0.51112547,  0.        ,  0.17004693,\n",
    "0.14475126,  0.17208078,  0.32549371,  0.06644262,  0.01787151,\n",
    "0.14946041, -0.14712929,  0.17004693, -0.14475126,  0.14224452,\n",
    "0.        ,  0.12792875,  0.0429865 ,  0.07364494, -0.02037845,\n",
    "0.18455696, -0.37974169,  0.17208078, -0.32549371,  0.12792875,\n",
    "-0.0429865 ,  0.43656953,  0.        ,  0.07020848,  0.14787588,\n",
    "0.01303891, -0.04915508,  0.06644262, -0.01787151,  0.07364494,\n",
    "0.02037845,  0.07020848, -0.14787588,  0.32001611,  0.        "
   ]
  },
  {
   "cell_type": "code",
   "execution_count": 56,
   "id": "c91b59e8-0108-4d03-87b5-276f4121374c",
   "metadata": {},
   "outputs": [
    {
     "name": "stdout",
     "output_type": "stream",
     "text": [
      "input_3 Quantized method: max-min  Values max: 45.35939221007857 min: -39.313785227067925 dec bit 1\n",
      "77/77 [==============================] - 0s 489us/step\n",
      "conv2d_2 Quantized method: max-min  Values max: 11.537459 min: -10.188239 dec bit 3\n",
      "77/77 [==============================] - 0s 496us/step\n",
      "batch_normalization_2 Quantized method: max-min  Values max: 31.58148 min: -29.192463 dec bit 2\n",
      "activation_2 Quantized method: max-min  Values max: 31.58148 min: -29.192463 dec bit 2\n",
      "max_pooling2d_2 Quantized method: max-min  Values max: 31.58148 min: -29.192463 dec bit 2\n",
      "reshape_2 Quantized method: max-min  Values max: 31.58148 min: -29.192463 dec bit 2\n",
      "77/77 [==============================] - 0s 1ms/step\n",
      "dense_5 Quantized method: max-min  Values max: 53.06605 min: 0.0 dec bit 1\n",
      "77/77 [==============================] - 0s 1ms/step\n",
      "dense_6 Quantized method: max-min  Values max: 171.44783 min: -49.87921 dec bit -1\n",
      "quantisation list {'input_3': [1, 0], 'conv2d_2': [2, 0], 'batch_normalization_2': [2, 0], 'activation_2': [2, 0], 'max_pooling2d_2': [2, 0], 'reshape_2': [2, 0], 'dense_5': [1, 0], 'dense_6': [-1, 0]}\n",
      "fusing batch normalization to conv2d_2\n",
      "original weight max 0.10391796 min -0.09812675\n",
      "original bias max 0.049562294 min -0.047150876\n",
      "fused weight max 0.38687006 min -0.40683597\n",
      "fused bias max 0.8557738 min -0.87269944\n",
      "quantizing weights for layer conv2d_2\n",
      "    tensor_conv2d_2_kernel_0 dec bit 8\n",
      "    tensor_conv2d_2_bias_0 dec bit 7\n",
      "quantizing weights for layer batch_normalization_2\n",
      "quantizing weights for layer dense_5\n",
      "    tensor_dense_5_kernel_0 dec bit 9\n",
      "    tensor_dense_5_bias_0 dec bit 9\n",
      "quantizing weights for layer dense_6\n",
      "    tensor_dense_6_kernel_0 dec bit 9\n",
      "    tensor_dense_6_bias_0 dec bit 12\n"
     ]
    }
   ],
   "source": [
    "generate_model(model, X_test, name='weights.h')"
   ]
  },
  {
   "cell_type": "code",
   "execution_count": 25,
   "id": "72543149-01a8-4977-87b2-046452a0d383",
   "metadata": {},
   "outputs": [],
   "source": [
    "# X_test = X_test//255.0\n",
    "# y_test = y_test//255.0\n",
    "# evaluate_model(model, X_test, y_test)"
   ]
  },
  {
   "cell_type": "code",
   "execution_count": 99,
   "id": "07bbcb04-b475-4053-8001-d6192cbe6c07",
   "metadata": {},
   "outputs": [],
   "source": [
    "# evaluate_model(model, X_test, y_test)"
   ]
  },
  {
   "cell_type": "code",
   "execution_count": 27,
   "id": "b089fdac-cf96-41bd-a75f-a9ca8094f8c3",
   "metadata": {},
   "outputs": [
    {
     "ename": "NameError",
     "evalue": "name 'model_compile' is not defined",
     "output_type": "error",
     "traceback": [
      "\u001b[0;31m---------------------------------------------------------------------------\u001b[0m",
      "\u001b[0;31mNameError\u001b[0m                                 Traceback (most recent call last)",
      "Input \u001b[0;32mIn [27]\u001b[0m, in \u001b[0;36m<cell line: 1>\u001b[0;34m()\u001b[0m\n\u001b[0;32m----> 1\u001b[0m \u001b[43mmodel_compile\u001b[49m(model)\n",
      "\u001b[0;31mNameError\u001b[0m: name 'model_compile' is not defined"
     ]
    }
   ],
   "source": [
    "# model_compile(model)"
   ]
  },
  {
   "cell_type": "code",
   "execution_count": null,
   "id": "302ac318-00f1-4d65-85a7-f0b8e50aefd2",
   "metadata": {},
   "outputs": [],
   "source": [
    "def RunSysCmd(cmd):\n",
    "    import subprocess\n",
    "    p = subprocess.Popen(cmd, stdout=subprocess.PIPE, shell=True)\n",
    "    (output, err) = p.communicate()\n",
    "    p_status = p.wait()\n",
    "    print(output.decode('utf-8'))"
   ]
  },
  {
   "cell_type": "code",
   "execution_count": null,
   "id": "4a77b6a5-d1ad-4c1f-8f4a-62505e37eeb6",
   "metadata": {},
   "outputs": [],
   "source": [
    "os.getcwd()"
   ]
  },
  {
   "cell_type": "code",
   "execution_count": 82,
   "id": "246ff53c-54e2-4be9-a7fc-0161f7b2b05c",
   "metadata": {},
   "outputs": [
    {
     "name": "stdout",
     "output_type": "stream",
     "text": [
      "\n",
      "\n"
     ]
    },
    {
     "name": "stderr",
     "output_type": "stream",
     "text": [
      "/bin/sh: nnom/examples/mnist-cnn/: is a directory\n",
      "/bin/sh: ./mnist: No such file or directory\n"
     ]
    }
   ],
   "source": [
    "RunSysCmd('nnom/examples/mnist-cnn/')\n",
    "RunSysCmd('./mnist')"
   ]
  },
  {
   "cell_type": "code",
   "execution_count": 71,
   "id": "fa8df09f-7ad4-4063-9529-f3ab4e227180",
   "metadata": {},
   "outputs": [
    {
     "name": "stdout",
     "output_type": "stream",
     "text": [
      "input_9 Quantized method: max-min  Values max: 43.956429416189636 min: -39.76182065835332 dec bit 1\n",
      "77/77 [==============================] - 0s 454us/step\n",
      "conv2d_8 Quantized method: max-min  Values max: 11.60468 min: -10.418692 dec bit 3\n",
      "77/77 [==============================] - 0s 476us/step\n",
      "batch_normalization_8 Quantized method: max-min  Values max: 32.538227 min: -32.65393 dec bit 1\n",
      "activation_8 Quantized method: max-min  Values max: 32.538227 min: -32.65393 dec bit 1\n",
      "max_pooling2d_8 Quantized method: max-min  Values max: 32.538227 min: -32.65393 dec bit 1\n",
      "reshape_8 Quantized method: max-min  Values max: 32.538227 min: -32.65393 dec bit 1\n",
      "77/77 [==============================] - 0s 1ms/step\n",
      "dense_26 Quantized method: max-min  Values max: 40.03254 min: 0.0 dec bit 1\n",
      "77/77 [==============================] - 0s 3ms/step\n",
      "dense_27 Quantized method: max-min  Values max: 28.575693 min: 0.0 dec bit 2\n",
      "77/77 [==============================] - 0s 4ms/step\n",
      "dense_28 Quantized method: max-min  Values max: 30.60383 min: 0.0 dec bit 2\n",
      "77/77 [==============================] - 0s 4ms/step\n",
      "dense_29 Quantized method: max-min  Values max: 115.92164 min: -53.31457 dec bit 0\n",
      "quantisation list {'input_9': [1, 0], 'conv2d_8': [1, 0], 'batch_normalization_8': [1, 0], 'activation_8': [1, 0], 'max_pooling2d_8': [1, 0], 'reshape_8': [1, 0], 'dense_26': [1, 0], 'dense_27': [2, 0], 'dense_28': [2, 0], 'dense_29': [0, 0]}\n",
      "fusing batch normalization to conv2d_8\n",
      "original weight max 0.08355678 min -0.084171854\n",
      "original bias max 0.06847222 min -0.0704608\n",
      "fused weight max 0.36886945 min -0.3656188\n",
      "fused bias max 0.7434283 min -0.74387354\n",
      "quantizing weights for layer conv2d_8\n",
      "    tensor_conv2d_8_kernel_0 dec bit 8\n",
      "    tensor_conv2d_8_bias_0 dec bit 7\n",
      "quantizing weights for layer batch_normalization_8\n",
      "quantizing weights for layer dense_26\n",
      "    tensor_dense_26_kernel_0 dec bit 10\n",
      "    tensor_dense_26_bias_0 dec bit 10\n",
      "quantizing weights for layer dense_27\n",
      "    tensor_dense_27_kernel_0 dec bit 9\n",
      "    tensor_dense_27_bias_0 dec bit 10\n",
      "quantizing weights for layer dense_28\n",
      "    tensor_dense_28_kernel_0 dec bit 9\n",
      "    tensor_dense_28_bias_0 dec bit 10\n",
      "quantizing weights for layer dense_29\n",
      "    tensor_dense_29_kernel_0 dec bit 10\n",
      "    tensor_dense_29_bias_0 dec bit 12\n"
     ]
    }
   ],
   "source": [
    "generate_model(model, X_test, format='hwc', per_channel_quant=False, name=\"weights.h\")"
   ]
  },
  {
   "cell_type": "code",
   "execution_count": null,
   "id": "caa7f4c3-9178-4d56-922a-e6219cad8123",
   "metadata": {},
   "outputs": [],
   "source": []
  },
  {
   "cell_type": "code",
   "execution_count": 12,
   "id": "564fd3ce-acee-4aeb-aa5e-84ca6cd11606",
   "metadata": {},
   "outputs": [
    {
     "data": {
      "text/plain": [
       "'/Users/nikanizharadze/Desktop/AoA'"
      ]
     },
     "execution_count": 12,
     "metadata": {},
     "output_type": "execute_result"
    }
   ],
   "source": [
    "os.getcwd()"
   ]
  },
  {
   "cell_type": "code",
   "execution_count": 16,
   "id": "5f91784c-7a87-4716-84c0-23f173157cbe",
   "metadata": {},
   "outputs": [],
   "source": [
    "model_name = 'mnist_simple_trained_model.h5'"
   ]
  },
  {
   "cell_type": "code",
   "execution_count": 18,
   "id": "dfd67136-b8c6-443f-95c3-937a1c5477bb",
   "metadata": {},
   "outputs": [
    {
     "name": "stdout",
     "output_type": "stream",
     "text": [
      "60000 train samples\n",
      "10000 test samples\n",
      "x_train shape: (60000, 28, 28, 1)\n",
      "data range 0.0 1.0\n",
      "Model: \"model_12\"\n",
      "_________________________________________________________________\n",
      " Layer (type)                Output Shape              Param #   \n",
      "=================================================================\n",
      " input_2 (InputLayer)        [(None, 28, 28, 1)]       0         \n",
      "                                                                 \n",
      " conv2d_3 (Conv2D)           (None, 28, 28, 12)        120       \n",
      "                                                                 \n",
      " re_lu_4 (ReLU)              (None, 28, 28, 12)        0         \n",
      "                                                                 \n",
      " max_pooling2d_3 (MaxPooling  (None, 14, 14, 12)       0         \n",
      " 2D)                                                             \n",
      "                                                                 \n",
      " conv2d_4 (Conv2D)           (None, 14, 14, 24)        2616      \n",
      "                                                                 \n",
      " re_lu_5 (ReLU)              (None, 14, 14, 24)        0         \n",
      "                                                                 \n",
      " max_pooling2d_4 (MaxPooling  (None, 7, 7, 24)         0         \n",
      " 2D)                                                             \n",
      "                                                                 \n",
      " conv2d_5 (Conv2D)           (None, 7, 7, 48)          10416     \n",
      "                                                                 \n",
      " re_lu_6 (ReLU)              (None, 7, 7, 48)          0         \n",
      "                                                                 \n",
      " dropout_2 (Dropout)         (None, 7, 7, 48)          0         \n",
      "                                                                 \n",
      " max_pooling2d_5 (MaxPooling  (None, 4, 4, 48)         0         \n",
      " 2D)                                                             \n",
      "                                                                 \n",
      " flatten_1 (Flatten)         (None, 768)               0         \n",
      "                                                                 \n",
      " dense_2 (Dense)             (None, 96)                73824     \n",
      "                                                                 \n",
      " dropout_3 (Dropout)         (None, 96)                0         \n",
      "                                                                 \n",
      " re_lu_7 (ReLU)              (None, 96)                0         \n",
      "                                                                 \n",
      " dense_3 (Dense)             (None, 10)                970       \n",
      "                                                                 \n",
      " softmax_1 (Softmax)         (None, 10)                0         \n",
      "                                                                 \n",
      "=================================================================\n",
      "Total params: 87,946\n",
      "Trainable params: 87,946\n",
      "Non-trainable params: 0\n",
      "_________________________________________________________________\n",
      "Epoch 1/2\n",
      "938/938 - 8s - loss: 0.2593 - accuracy: 0.9187 - val_loss: 0.0582 - val_accuracy: 0.9801 - 8s/epoch - 8ms/step\n",
      "Epoch 2/2\n",
      "938/938 - 7s - loss: 0.0792 - accuracy: 0.9758 - val_loss: 0.0463 - val_accuracy: 0.9846 - 7s/epoch - 8ms/step\n",
      "313/313 - 1s - loss: 0.0463 - accuracy: 0.9846 - 611ms/epoch - 2ms/step\n",
      "Test loss: 0.04634290561079979\n",
      "Top 1: 0.9846000075340271\n",
      "313/313 [==============================] - 1s 2ms/step\n",
      "[[ 975    0    3    1    0    0    1    0    0    0]\n",
      " [   1 1122    3    1    2    0    4    0    2    0]\n",
      " [   3    0 1028    1    0    0    0    0    0    0]\n",
      " [   0    0    1 1004    0    4    0    1    0    0]\n",
      " [   0    0    0    0  974    0    3    0    2    3]\n",
      " [   2    0    0    5    0  884    1    0    0    0]\n",
      " [   7    1    1    0    3    3  939    0    4    0]\n",
      " [   0    3   21    4    1    0    0  995    1    3]\n",
      " [   5    0    5    4    2    2    2    0  952    2]\n",
      " [   2    1    1    2   10    6    0    4   10  973]]\n",
      "input_2 Quantized method: max-min  Values max: 1.0 min: 0.0 dec bit 7\n",
      "2188/2188 [==============================] - 2s 898us/step\n",
      "conv2d_3 Quantized method: max-min  Values max: 1.5865989 min: -1.1252929 dec bit 6\n",
      "re_lu_4 Quantized method: max-min  Values max: 1.5865989 min: -1.1252929 dec bit 6\n",
      "max_pooling2d_3 Quantized method: max-min  Values max: 1.5865989 min: -1.1252929 dec bit 6\n",
      "2188/2188 [==============================] - 3s 1ms/step\n",
      "conv2d_4 Quantized method: max-min  Values max: 3.6312373 min: -3.9454246 dec bit 5\n",
      "re_lu_5 Quantized method: max-min  Values max: 3.6312373 min: -3.9454246 dec bit 5\n",
      "max_pooling2d_4 Quantized method: max-min  Values max: 3.6312373 min: -3.9454246 dec bit 5\n",
      "2188/2188 [==============================] - 3s 2ms/step\n",
      "conv2d_5 Quantized method: max-min  Values max: 6.2331295 min: -7.3410306 dec bit 4\n",
      "re_lu_6 Quantized method: max-min  Values max: 6.2331295 min: -7.3410306 dec bit 4\n",
      "dropout_2 Quantized method: max-min  Values max: 6.2331295 min: -7.3410306 dec bit 4\n",
      "max_pooling2d_5 Quantized method: max-min  Values max: 6.2331295 min: -7.3410306 dec bit 4\n",
      "flatten_1 Quantized method: max-min  Values max: 6.2331295 min: -7.3410306 dec bit 4\n",
      "2188/2188 [==============================] - 4s 2ms/step\n",
      "dense_2 Quantized method: max-min  Values max: 11.431321 min: -13.704051 dec bit 3\n",
      "dropout_3 Quantized method: max-min  Values max: 11.431321 min: -13.704051 dec bit 3\n",
      "re_lu_7 Quantized method: max-min  Values max: 11.431321 min: -13.704051 dec bit 3\n",
      "2188/2188 [==============================] - 4s 2ms/step\n",
      "dense_3 Quantized method: max-min  Values max: 19.998058 min: -21.132404 dec bit 2\n",
      "2188/2188 [==============================] - 4s 2ms/step\n",
      "softmax_1 Quantized method: max-min  Values max: 1.0 min: 3.6512067e-18 dec bit 7\n",
      "quantisation list {'input_2': [7, 0], 'conv2d_3': [6, 0], 're_lu_4': [6, 0], 'max_pooling2d_3': [6, 0], 'conv2d_4': [5, 0], 're_lu_5': [5, 0], 'max_pooling2d_4': [5, 0], 'conv2d_5': [4, 0], 're_lu_6': [4, 0], 'dropout_2': [4, 0], 'max_pooling2d_5': [4, 0], 'flatten_1': [4, 0], 'dense_2': [3, 0], 'dropout_3': [3, 0], 're_lu_7': [3, 0], 'dense_3': [2, 0], 'softmax_1': [7, 0]}\n",
      "quantizing weights for layer conv2d_3\n",
      "    tensor_conv2d_3_kernel_0 dec bit 8\n",
      "    tensor_conv2d_3_bias_0 dec bit 10\n",
      "quantizing weights for layer conv2d_4\n",
      "    tensor_conv2d_4_kernel_0 dec bit 8\n",
      "    tensor_conv2d_4_bias_0 dec bit 11\n",
      "quantizing weights for layer conv2d_5\n",
      "    tensor_conv2d_5_kernel_0 dec bit 8\n",
      "    tensor_conv2d_5_bias_0 dec bit 11\n",
      "quantizing weights for layer dense_2\n",
      "    tensor_dense_2_kernel_0 dec bit 8\n",
      "    tensor_dense_2_bias_0 dec bit 11\n",
      "quantizing weights for layer dense_3\n",
      "    tensor_dense_3_kernel_0 dec bit 8\n",
      "    tensor_dense_3_bias_0 dec bit 11\n"
     ]
    },
    {
     "data": {
      "image/png": "[encoded data removed]",
      "text/plain": [
       "<Figure size 640x480 with 1 Axes>"
      ]
     },
     "metadata": {},
     "output_type": "display_data"
    }
   ],
   "source": [
    "epochs = 2\n",
    "num_classes = 10\n",
    "\n",
    "# The data, split between train and test sets:\n",
    "(x_train, y_train_num), (x_test, y_test_num) = mnist.load_data()\n",
    "\n",
    "print(x_train.shape[0], 'train samples')\n",
    "print(x_test.shape[0], 'test samples')\n",
    "\n",
    "# Convert class vectors to binary class matrices.\n",
    "y_train = tf.keras.utils.to_categorical(y_train_num, num_classes)\n",
    "y_test = tf.keras.utils.to_categorical(y_test_num, num_classes)\n",
    "\n",
    "# reshape to 4 d becaue we build for 4d?\n",
    "x_train = x_train.reshape(x_train.shape[0], x_train.shape[1], x_train.shape[2], 1)\n",
    "x_test = x_test.reshape(x_test.shape[0], x_test.shape[1], x_test.shape[2], 1)\n",
    "print('x_train shape:', x_train.shape)\n",
    "\n",
    "# quantize the range to 0~255 -> 0~1\n",
    "x_test = x_test/255\n",
    "x_train = x_train/255\n",
    "print(\"data range\", x_test.min(), x_test.max())\n",
    "\n",
    "# select a few image and write them to image.h\n",
    "image_to_cfile(x_test*127, y_test_num, 10, file='image.h')\n",
    "\n",
    "# train model, save the best accuracy model\n",
    "history = train(x_train, y_train, x_test, y_test, batch_size=64, epochs=epochs)\n",
    "\n",
    "# reload best model\n",
    "model = load_model(model_name)\n",
    "\n",
    "# evaluate\n",
    "evaluate_model(model, x_test, y_test)\n",
    "\n",
    "# save weight\n",
    "generate_model(model, np.vstack((x_train, x_test)), name=\"weights.h\")\n",
    "\n",
    "# plot\n",
    "acc = history.history['accuracy']\n",
    "val_acc = history.history['val_accuracy']\n",
    "\n",
    "plt.plot(range(0, epochs), acc, color='red', label='Training acc')\n",
    "plt.plot(range(0, epochs), val_acc, color='green', label='Validation acc')\n",
    "plt.title('Training and validation accuracy')\n",
    "plt.xlabel('Epochs')\n",
    "plt.ylabel('Loss')\n",
    "plt.legend()\n",
    "plt.show()"
   ]
  },
  {
   "cell_type": "code",
   "execution_count": null,
   "id": "7c50a62b-6a39-4d51-b351-8bf41db13c07",
   "metadata": {},
   "outputs": [],
   "source": []
  }
 ],
 "metadata": {
  "kernelspec": {
   "display_name": "Python 3 (ipykernel)",
   "language": "python",
   "name": "python3"
  },
  "language_info": {
   "codemirror_mode": {
    "name": "ipython",
    "version": 3
   },
   "file_extension": ".py",
   "mimetype": "text/x-python",
   "name": "python",
   "nbconvert_exporter": "python",
   "pygments_lexer": "ipython3",
   "version": "3.10.4"
  }
 },
 "nbformat": 4,
 "nbformat_minor": 5
}
