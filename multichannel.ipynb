{
 "cells": [
  {
   "cell_type": "code",
   "execution_count": 3,
   "id": "f4313f42-3b34-4379-ade1-f83ca70c35af",
   "metadata": {},
   "outputs": [],
   "source": [
    "import pandas as pd\n",
    "import numpy as np\n",
    "from sklearn.model_selection import KFold\n",
    "from matplotlib import pyplot as plt\n",
    "from sklearn.model_selection import GroupShuffleSplit\n",
    "from sklearn.neighbors import KNeighborsRegressor\n",
    "from sklearn.metrics import mean_absolute_error, r2_score\n",
    "from sklearn.svm import SVR\n",
    "from sklearn.pipeline import make_pipeline\n",
    "from sklearn.preprocessing import StandardScaler\n",
    "from sklearn.ensemble import RandomForestRegressor, GradientBoostingRegressor\n",
    "from sklearn.neural_network import MLPRegressor\n",
    "from sklearn.tree import DecisionTreeRegressor\n",
    "import seaborn as sns\n",
    "from utils import get_data_per_anchor, spatial_plot\n",
    "from sklearn.linear_model import LinearRegression\n",
    "import xgboost as xgb\n",
    "import os\n",
    "import warnings\n",
    "from micromlgen import port\n",
    "import m2cgen as m2c\n",
    "warnings.filterwarnings(\"ignore\")"
   ]
  },
  {
   "cell_type": "code",
   "execution_count": 2,
   "id": "1dcb2538-057e-4336-8682-2e84855682cf",
   "metadata": {},
   "outputs": [],
   "source": [
    "params = {\n",
    "    \"test_size\":0.33,\n",
    "    \"random_state\":42,\n",
    "    \"splits\":3,\n",
    "    \n",
    "}"
   ]
  },
  {
   "cell_type": "code",
   "execution_count": 3,
   "id": "d1795d7b-a9da-4048-aedb-db0aea1a032c",
   "metadata": {},
   "outputs": [],
   "source": [
    "df = pd.read_pickle(\"raw_IQ.pkl\")\n",
    "df.sort_values(['point', 'anchor', 'room', 'channel'], inplace=True)\n",
    "pd.set_option('display.max_columns', None)\n",
    "pd.set_option('display.max_rows', None)"
   ]
  },
  {
   "cell_type": "code",
   "execution_count": 4,
   "id": "3c713b01-db46-4935-8f95-a3a96f55b807",
   "metadata": {},
   "outputs": [],
   "source": [
    "def iq_processing(data):\n",
    "    \n",
    "    \"\"\"\n",
    "    Input: Data\n",
    "    Output: Processed Data\n",
    "\n",
    "    Processing: Power Scaling, IQ shifting\n",
    "    \"\"\"\n",
    "\n",
    "    cols_real = ['pdda_input_real_{}'.format(x+1) for x in range(5)]\n",
    "    cols_imag = ['pdda_input_imag_{}'.format(x+1) for x in range(5)]\n",
    "\n",
    "    iq_values = pd.DataFrame(data['pdda_input_real'].tolist(), columns=cols_real, index=data.index)\n",
    "    iq_values[cols_imag] = pd.DataFrame(data['pdda_input_imag'].tolist(), columns=cols_imag, index=data.index)\n",
    "    \n",
    "    phase = pd.DataFrame(np.arctan2(iq_values['pdda_input_imag_1'],iq_values['pdda_input_real_1']), columns=['phase_1'])\n",
    "    \n",
    "    cos = np.cos(phase).values.ravel()\n",
    "    sin = np.sin(phase).values.ravel()\n",
    "    \n",
    "    out = data.copy()\n",
    "    iq_ref = np.abs(iq_values[f'pdda_input_real_1']*cos + iq_values[f'pdda_input_imag_1']*sin)\n",
    "    for i in range(1,6):\n",
    "        out[f'pdda_input_real_{i}'] = (iq_values[f'pdda_input_real_{i}']*cos + iq_values[f'pdda_input_imag_{i}']*sin)\n",
    "        out[f'pdda_input_imag_{i}'] = (-iq_values[f'pdda_input_real_{i}']*sin + iq_values[f'pdda_input_imag_{i}']*cos)\n",
    "        iq_ref +=  iq_values[f'pdda_input_real_{i}']**2 + iq_values[f'pdda_input_imag_{i}']**2\n",
    "\n",
    "    power_norm =  StandardScaler().fit_transform((out['reference_power'] + out['relative_power']).values.reshape(-1,1))/10\n",
    "    \n",
    "    out.insert(25, 'power', power_norm)\n",
    "    out.insert(24, 'iq_ref', iq_ref)\n",
    "    out.drop(columns=['pdda_input_imag_1', 'pdda_input_real', 'pdda_input_imag'], inplace=True)\n",
    "    return out"
   ]
  },
  {
   "cell_type": "code",
   "execution_count": 5,
   "id": "b006785c-1a7c-4b48-8b57-d5d03d97e929",
   "metadata": {},
   "outputs": [],
   "source": [
    "features = ['power', 'pdda_input_real_1', 'pdda_input_real_2', 'pdda_input_imag_2', 'pdda_input_real_3', 'pdda_input_imag_3', 'pdda_input_real_4', 'pdda_input_imag_4',\n",
    "           'pdda_input_real_5', 'pdda_input_imag_5']\n",
    "# theta does not change, make predictions for phi only, azimuth angles \n",
    "# predict only for phi, \n",
    "targets = ['true_phi']\n",
    "location = ['x_tag', 'y_tag']\n",
    "pdda_angle = ['pdda_phi']\n",
    "point = ['point']"
   ]
  },
  {
   "cell_type": "code",
   "execution_count": 6,
   "id": "00326eb1-b945-46f9-99da-c0ec93d92618",
   "metadata": {},
   "outputs": [],
   "source": [
    "new_features = ['power_37', 'pdda_input_real_1_37', 'pdda_input_real_2_37', 'pdda_input_imag_2_37', 'pdda_input_real_3_37', 'pdda_input_imag_3_37', 'pdda_input_real_4_37', 'pdda_input_imag_4_37',\n",
    "               'pdda_input_real_5_37', 'pdda_input_imag_5_37','power_38', 'pdda_input_real_1_38', 'pdda_input_real_2_38', 'pdda_input_imag_2_38', 'pdda_input_real_3_38', 'pdda_input_imag_3_38',\n",
    "                        'pdda_input_real_4_38', 'pdda_input_imag_4_38','pdda_input_real_5_38', 'pdda_input_imag_5_38',\n",
    "                       'power_39', 'pdda_input_real_1_39', 'pdda_input_real_2_39', 'pdda_input_imag_2_39', 'pdda_input_real_3_39', 'pdda_input_imag_3_39',\n",
    "                        'pdda_input_real_4_39', 'pdda_input_imag_4_39','pdda_input_real_5_39', 'pdda_input_imag_5_39']"
   ]
  },
  {
   "cell_type": "code",
   "execution_count": 7,
   "id": "c6c56343-a6d1-499c-92ff-db00b4ba63b6",
   "metadata": {},
   "outputs": [],
   "source": [
    "def scale(df):\n",
    "    \"\"\"scale dataset with mean=0, std=1\"\"\"\n",
    "    scaler = StandardScaler()\n",
    "    df[features] = scaler.fit_transform(df[features])\n",
    "    return df"
   ]
  },
  {
   "cell_type": "code",
   "execution_count": 8,
   "id": "632a77d1-61b9-47af-b843-88c53dfaf8d3",
   "metadata": {},
   "outputs": [],
   "source": [
    "def select_polarity(df):\n",
    "    \"\"\"\"rssi signals closer to 0, represent the better quality of signal\"\"\"\n",
    "    tmp = df.sort_values(['point', 'anchor', 'channel', 'room'])\n",
    "    tmp['mask'] = tmp['reference_power'] + df['relative_power']\n",
    "    tmp = tmp.sort_values(['point', 'anchor', 'channel', 'room', 'mask'])\n",
    "    tmp = tmp.drop_duplicates(subset=['point', 'anchor', 'channel', 'room'], keep='last')\n",
    "    return tmp"
   ]
  },
  {
   "cell_type": "code",
   "execution_count": 9,
   "id": "ce22d13b-fa38-4293-95c8-72329b55b0cc",
   "metadata": {},
   "outputs": [],
   "source": [
    "def train(df, models, metrics):\n",
    "    results = pd.DataFrame()\n",
    "    true_phi = []\n",
    "    model_preds = []\n",
    "    pdda_preds = []\n",
    "    anchor_val = []\n",
    "    x_loc = []\n",
    "    y_loc = []\n",
    "    pts = []\n",
    "    flag = True\n",
    "    trained_models = {}\n",
    "    anchor_mae = {}\n",
    "    pdda_error = []\n",
    "    m_preds = {}\n",
    "    for model in models:\n",
    "        print(str(model))\n",
    "        for anchor in [1.0,2.0,3.0,4.0]:\n",
    "            avg_mae = 0\n",
    "            avg_pdda = 0\n",
    "            anchor_df = df.loc[df['anchor'] == anchor]\n",
    "            X = anchor_df[new_features].values\n",
    "            y = anchor_df[targets].values\n",
    "            gss = GroupShuffleSplit(n_splits=params[\"splits\"], test_size=params[\"test_size\"], random_state=params[\"random_state\"])\n",
    "            fold = 1\n",
    "            for train_idx, test_idx in gss.split(X, y, groups=anchor_df.point):\n",
    "                temp = pd.DataFrame()\n",
    "                train = anchor_df.iloc[train_idx]\n",
    "                test = anchor_df.iloc[test_idx]\n",
    "                assert round(test.shape[0]/(train.shape[0]+test.shape[0]), 2) == params[\"test_size\"]\n",
    "                assert len(set(train.point) & set(test.point)) == 0\n",
    "                X_train = train[new_features].values\n",
    "                y_train = train[targets].values\n",
    "                X_test = test[new_features].values\n",
    "                test_location = test[location].values\n",
    "                pdda_result = test[pdda_angle].values\n",
    "                y_test = test[targets].values\n",
    "                points = test[point].values\n",
    "                \n",
    "\n",
    "                # learn the trainer on the train set and apply for testing set\n",
    "                regr = model\n",
    "                regr.fit(X_train,y_train)\n",
    "                if str(model) not in trained_models:\n",
    "                    if str(model).split(\"(\")[0] != \"XGBRegressor\":\n",
    "                        trained_models[str(model)] = regr\n",
    "                    else:\n",
    "                        trained_models[\"XGBRegressor\"] = regr\n",
    "                # trained_models.append(regr)\n",
    "                predictions = regr.predict(X_test)\n",
    "                # print(predictions)\n",
    "    \n",
    "                # need pointwise error for plotting using spatial_plot function\n",
    "                for i in range(len(predictions)):\n",
    "                    model_preds.append(predictions[i])\n",
    "                    # predictions.append(mean_absolute_error(y_test[i], temp))\n",
    "                    pdda_preds.append(pdda_result[i][0])\n",
    "                    true_phi.append(y_test[i][0])\n",
    "                    pts.append(points[i][0])\n",
    "                    x_coordinate, y_coordinate = test_location[i]\n",
    "                    x_loc.append(x_coordinate)\n",
    "                    y_loc.append(y_coordinate)\n",
    "                    anchor_val.append(anchor)\n",
    "                l_mae = mean_absolute_error(y_test.ravel(), predictions.ravel())\n",
    "                pdda_mae = mean_absolute_error(y_test.ravel(), pdda_result.ravel())\n",
    "                avg_mae += l_mae\n",
    "                avg_pdda += pdda_mae\n",
    "               \n",
    "        \n",
    "                # print(avg_mae)\n",
    "            avg_mae = avg_mae/3\n",
    "            avg_pdda = avg_pdda/3\n",
    "            # print(avg_mae)\n",
    "            if len(pdda_error) < 4:\n",
    "                pdda_error.append(avg_pdda)\n",
    "            model_name = str(model).split(\"(\")[0]\n",
    "            if model_name != 'XGBRegressor':\n",
    "                model_name = str(model)\n",
    "            if str(model_name) not in anchor_mae:\n",
    "                anchor_mae[model_name] = [avg_mae]\n",
    "            else:\n",
    "                anchor_mae[model_name] += [avg_mae]\n",
    "            # avg_mae.append(sum(errors)/len(errors))\n",
    "            # temp = []\n",
    "\n",
    "        \n",
    "        \n",
    "        # model_name = str(model).split(\"(\")[0]\n",
    "        # if model_name == 'XGBRegressor':\n",
    "        #     results[model_name] = model_preds\n",
    "        # else:\n",
    "        #     results[str(model)] = model_preds\n",
    "         \n",
    "        if flag:\n",
    "            temp['pdda'] = pdda_preds\n",
    "            temp['true_phi'] = true_phi\n",
    "            temp['x_loc'] = x_loc\n",
    "            temp['y_loc'] = y_loc\n",
    "            temp['point'] = pts\n",
    "            temp['anchor'] = anchor_val\n",
    "            results = pd.concat([results, temp])\n",
    "            flag = False\n",
    "            \n",
    "        model_name = str(model).split(\"(\")[0]\n",
    "        if model_name != 'XGBRegressor':\n",
    "            model_name = str(model)\n",
    "        m_preds[model_name] = model_preds\n",
    "        model_preds = []\n",
    "        pdda_preds = []\n",
    "        true_phi = []\n",
    "        x_loc = []\n",
    "        y_loc = []\n",
    "        pts = []\n",
    "        anchor_val = []\n",
    "        # results = pd.concat([results, temp])\n",
    "    for k,v in m_preds.items():\n",
    "        results[k] = v\n",
    "    return (results, anchor_mae, pdda_error, trained_models)"
   ]
  },
  {
   "cell_type": "code",
   "execution_count": 10,
   "id": "dc06ef37-f353-4d53-9bb8-613657d03c8c",
   "metadata": {},
   "outputs": [],
   "source": [
    "def calculate_mae_errors(results):\n",
    "    # calculate average mae errors over all anchors\n",
    "    grouped = results.groupby(['point','anchor'],as_index=False)\n",
    "    avg_errors = pd.DataFrame()\n",
    "\n",
    "    for group, tdf in grouped:\n",
    "        p_df = pd.DataFrame()\n",
    "        maes_pdda = []\n",
    "        maes_rf100 = []\n",
    "        maes_rf10 = []\n",
    "        maes_svr = []\n",
    "        maes_lr = []\n",
    "        \n",
    "        maes_xgboost = []\n",
    "        maes_dt = []\n",
    "        x_locs = []\n",
    "        y_locs = []\n",
    "        maes_pdda.append(mean_absolute_error([np.mean(tdf['pdda'].values)], [tdf['true_phi'].values[0]]))\n",
    "\n",
    "        maes_rf100.append(mean_absolute_error([np.mean(tdf['RandomForestRegressor()'].values)], [tdf['true_phi'].values[0]]))\n",
    "        maes_rf10.append(mean_absolute_error([np.mean(tdf['RandomForestRegressor(n_estimators=10)'].values)], [tdf['true_phi'].values[0]]))\n",
    "        maes_svr.append(mean_absolute_error([np.mean(tdf['SVR()'].values)], [tdf['true_phi'].values[0]]))\n",
    "        maes_xgboost.append(mean_absolute_error([np.mean(tdf['XGBRegressor'].values)], [tdf['true_phi'].values[0]]))\n",
    "        maes_dt.append(mean_absolute_error([np.mean(tdf['DecisionTreeRegressor()'].values)], [tdf['true_phi'].values[0]]))\n",
    "        maes_lr.append(mean_absolute_error([np.mean(tdf['LinearRegression()'].values)], [tdf['true_phi'].values[0]]))\n",
    "        x_locs.append(tdf['x_loc'].values[0])\n",
    "        y_locs.append(tdf['y_loc'].values[0])\n",
    "\n",
    "        p_df['MAE_pdda'] = maes_pdda\n",
    "        p_df['MAE_LR'] = maes_lr\n",
    "        p_df['MAE_SVR'] = maes_svr\n",
    "        p_df['MAE_DT'] = maes_dt\n",
    "        \n",
    "        p_df['MAE_RF10'] = maes_rf10\n",
    "        \n",
    "        p_df['MAE_XGBoost'] = maes_xgboost\n",
    "\n",
    "        p_df['MAE_RF100'] = maes_rf100\n",
    "        p_df['x_loc'] = x_locs\n",
    "        p_df['y_loc'] = y_locs\n",
    "\n",
    "        avg_errors = pd.concat([avg_errors, p_df])\n",
    "    return avg_errors\n",
    "            \n"
   ]
  },
  {
   "cell_type": "code",
   "execution_count": 11,
   "id": "f33817ba-3db9-440c-9f62-4bdf33d3a334",
   "metadata": {},
   "outputs": [],
   "source": [
    "models = [RandomForestRegressor(), RandomForestRegressor(n_estimators=10), DecisionTreeRegressor(), SVR(),\n",
    "          xgb.XGBRegressor(),LinearRegression()]\n",
    "metrics = [mean_absolute_error, r2_score]"
   ]
  },
  {
   "cell_type": "code",
   "execution_count": 82,
   "id": "27d66a7f-2e40-4c83-b81e-8df326f82e4f",
   "metadata": {},
   "outputs": [],
   "source": [
    "result = pd.read_pickle('results/figure3_panel1.pkl')"
   ]
  },
  {
   "cell_type": "code",
   "execution_count": 84,
   "id": "bde98676-96e0-4b77-8a66-6978e009b386",
   "metadata": {},
   "outputs": [
    {
     "data": {
      "text/html": [
       "<div>\n",
       "<style scoped>\n",
       "    .dataframe tbody tr th:only-of-type {\n",
       "        vertical-align: middle;\n",
       "    }\n",
       "\n",
       "    .dataframe tbody tr th {\n",
       "        vertical-align: top;\n",
       "    }\n",
       "\n",
       "    .dataframe thead th {\n",
       "        text-align: right;\n",
       "    }\n",
       "</style>\n",
       "<table border=\"1\" class=\"dataframe\">\n",
       "  <thead>\n",
       "    <tr style=\"text-align: right;\">\n",
       "      <th></th>\n",
       "      <th>testbench_01</th>\n",
       "      <th>testbench_01_furniture_low</th>\n",
       "      <th>testbench_01_furniture_mid</th>\n",
       "      <th>testbench_01_furniture_high</th>\n",
       "    </tr>\n",
       "  </thead>\n",
       "  <tbody>\n",
       "    <tr>\n",
       "      <th>pdda</th>\n",
       "      <td>8.543385</td>\n",
       "      <td>8.432292</td>\n",
       "      <td>9.389305</td>\n",
       "      <td>8.860607</td>\n",
       "    </tr>\n",
       "    <tr>\n",
       "      <th>Linear Regression</th>\n",
       "      <td>9.412078</td>\n",
       "      <td>9.568003</td>\n",
       "      <td>9.844010</td>\n",
       "      <td>10.268760</td>\n",
       "    </tr>\n",
       "    <tr>\n",
       "      <th>SVR</th>\n",
       "      <td>8.547875</td>\n",
       "      <td>8.643641</td>\n",
       "      <td>8.761621</td>\n",
       "      <td>9.003906</td>\n",
       "    </tr>\n",
       "    <tr>\n",
       "      <th>Decision Tree</th>\n",
       "      <td>6.882543</td>\n",
       "      <td>7.261287</td>\n",
       "      <td>7.606070</td>\n",
       "      <td>7.617472</td>\n",
       "    </tr>\n",
       "    <tr>\n",
       "      <th>RF10</th>\n",
       "      <td>5.611666</td>\n",
       "      <td>5.740991</td>\n",
       "      <td>6.253664</td>\n",
       "      <td>6.183317</td>\n",
       "    </tr>\n",
       "    <tr>\n",
       "      <th>XGBoost</th>\n",
       "      <td>5.643571</td>\n",
       "      <td>5.838038</td>\n",
       "      <td>6.218492</td>\n",
       "      <td>6.293050</td>\n",
       "    </tr>\n",
       "    <tr>\n",
       "      <th>RF100</th>\n",
       "      <td>5.413609</td>\n",
       "      <td>5.568117</td>\n",
       "      <td>5.972842</td>\n",
       "      <td>5.890732</td>\n",
       "    </tr>\n",
       "    <tr>\n",
       "      <th>aoanet</th>\n",
       "      <td>4.831005</td>\n",
       "      <td>4.991831</td>\n",
       "      <td>5.408162</td>\n",
       "      <td>5.551577</td>\n",
       "    </tr>\n",
       "    <tr>\n",
       "      <th>Modified aoanet</th>\n",
       "      <td>4.895520</td>\n",
       "      <td>5.168705</td>\n",
       "      <td>5.537297</td>\n",
       "      <td>5.588882</td>\n",
       "    </tr>\n",
       "  </tbody>\n",
       "</table>\n",
       "</div>"
      ],
      "text/plain": [
       "                   testbench_01  testbench_01_furniture_low  \\\n",
       "pdda                   8.543385                    8.432292   \n",
       "Linear Regression      9.412078                    9.568003   \n",
       "SVR                    8.547875                    8.643641   \n",
       "Decision Tree          6.882543                    7.261287   \n",
       "RF10                   5.611666                    5.740991   \n",
       "XGBoost                5.643571                    5.838038   \n",
       "RF100                  5.413609                    5.568117   \n",
       "aoanet                 4.831005                    4.991831   \n",
       "Modified aoanet        4.895520                    5.168705   \n",
       "\n",
       "                   testbench_01_furniture_mid  testbench_01_furniture_high  \n",
       "pdda                                 9.389305                     8.860607  \n",
       "Linear Regression                    9.844010                    10.268760  \n",
       "SVR                                  8.761621                     9.003906  \n",
       "Decision Tree                        7.606070                     7.617472  \n",
       "RF10                                 6.253664                     6.183317  \n",
       "XGBoost                              6.218492                     6.293050  \n",
       "RF100                                5.972842                     5.890732  \n",
       "aoanet                               5.408162                     5.551577  \n",
       "Modified aoanet                      5.537297                     5.588882  "
      ]
     },
     "execution_count": 84,
     "metadata": {},
     "output_type": "execute_result"
    }
   ],
   "source": [
    "result.head(10)"
   ]
  },
  {
   "cell_type": "code",
   "execution_count": 14,
   "id": "629cd506-497e-4633-9076-574d987a49f5",
   "metadata": {},
   "outputs": [],
   "source": [
    "\n",
    "def all_environments():\n",
    "    rooms = ['testbench_01', 'testbench_01_furniture_low', 'testbench_01_furniture_mid', 'testbench_01_furniture_high']\n",
    "    aoanet= [4.831005,4.991831,5.408162,5.551577]\n",
    "    modified_aoanet = [4.895520,5.168705,5.537297,5.588882]\n",
    "    result = pd.DataFrame()\n",
    "    i = 0\n",
    "    for room in rooms:\n",
    "        environment = df[df['room'] == room]\n",
    "        environment = iq_processing(environment)\n",
    "        environment = scale(environment)\n",
    "        environment = select_polarity(environment)\n",
    "        environment = combine_features(environment)\n",
    "\n",
    "        results, anchor_mae, pdda_error, trained_models = train(environment, models, metrics)\n",
    "\n",
    "        avg_errors = calculate_mae_errors(results)\n",
    "\n",
    "        col_names = ['MAE_pdda','MAE_LR', 'MAE_SVR', 'MAE_DT', 'MAE_RF10', 'MAE_XGBoost', 'MAE_RF100']\n",
    "        model_names = ['pdda', 'Linear Regression', 'SVR', 'Decision Tree', 'RF10', 'XGBoost', 'RF100','Modified AoANet','AoANet']\n",
    "\n",
    "        result.index = model_names\n",
    "        errors = list(avg_errors[col_names].mean().values)\n",
    "        errors.append(modified_aoanet[i])\n",
    "        errors.append(aoanet[i])\n",
    "        result[room] = errors\n",
    "        i += 1\n",
    "    return result, trained_models\n",
    "    "
   ]
  },
  {
   "cell_type": "code",
   "execution_count": 13,
   "id": "845b898f-018f-49da-acfe-e43e7b56ea50",
   "metadata": {},
   "outputs": [],
   "source": [
    "# cols = ['element1','element2','element3','element4','element5']\n",
    "\n",
    "def combine_features(df):\n",
    "    grouped = df.groupby(['room','anchor', 'point'],as_index=False)\n",
    "    new_features = ['power_37', 'pdda_input_real_1_37', 'pdda_input_real_2_37', 'pdda_input_imag_2_37', 'pdda_input_real_3_37', 'pdda_input_imag_3_37', 'pdda_input_real_4_37', 'pdda_input_imag_4_37',\n",
    "               'pdda_input_real_5_37', 'pdda_input_imag_5_37','power_38', 'pdda_input_real_1_38', 'pdda_input_real_2_38', 'pdda_input_imag_2_38', 'pdda_input_real_3_38', 'pdda_input_imag_3_38',\n",
    "                        'pdda_input_real_4_38', 'pdda_input_imag_4_38','pdda_input_real_5_38', 'pdda_input_imag_5_38',\n",
    "                       'power_39', 'pdda_input_real_1_39', 'pdda_input_real_2_39', 'pdda_input_imag_2_39', 'pdda_input_real_3_39', 'pdda_input_imag_3_39',\n",
    "                        'pdda_input_real_4_39', 'pdda_input_imag_4_39','pdda_input_real_5_39', 'pdda_input_imag_5_39']\n",
    "    x_loc = []\n",
    "    y_loc = []\n",
    "    pts = []\n",
    "    pdda = []\n",
    "    anchors = []\n",
    "    pdda = []\n",
    "    true_phi = []\n",
    "    room = []\n",
    "    combined_features = []\n",
    "    temp = pd.DataFrame()\n",
    "    for group, tdf in grouped:\n",
    "        soi_matrix = tdf[features]\n",
    "        # print(soi_matrix)\n",
    "        soi_matrix = soi_matrix.values.reshape(1,30)\n",
    "        # print(soi_matrix[0])\n",
    "        # break\n",
    "        x_loc.append(tdf['x_tag'].values[0])\n",
    "        y_loc.append(tdf['y_tag'].values[0])\n",
    "        pts.append(tdf['point'].values[0])\n",
    "        anchors.append(tdf['anchor'].values[0])\n",
    "        pdda.append(tdf['pdda_phi'].values[0])\n",
    "        room.append(tdf['room'].values[0])\n",
    "        combined_features.append(soi_matrix[0])\n",
    "        true_phi.append(tdf['true_phi'].values[0])\n",
    "\n",
    "    temp[new_features] = combined_features\n",
    "    temp['true_phi'] = true_phi\n",
    "    temp['pdda_phi'] = pdda\n",
    "    temp['anchor'] = anchors\n",
    "    temp['point'] = pts\n",
    "    temp['x_tag'] = x_loc\n",
    "    temp['y_tag'] = y_loc\n",
    "    temp['room'] = room\n",
    "    return temp"
   ]
  },
  {
   "cell_type": "code",
   "execution_count": 20,
   "id": "8155a05c-8d20-4d2f-b8ea-c926c75d8200",
   "metadata": {},
   "outputs": [
    {
     "data": {
      "text/plain": [
       "{'RandomForestRegressor()': RandomForestRegressor(),\n",
       " 'RandomForestRegressor(n_estimators=10)': RandomForestRegressor(n_estimators=10),\n",
       " 'DecisionTreeRegressor()': DecisionTreeRegressor(),\n",
       " 'SVR()': SVR(),\n",
       " 'XGBRegressor': XGBRegressor(base_score=0.5, booster='gbtree', callbacks=None,\n",
       "              colsample_bylevel=1, colsample_bynode=1, colsample_bytree=1,\n",
       "              early_stopping_rounds=None, enable_categorical=False,\n",
       "              eval_metric=None, gamma=0, gpu_id=-1, grow_policy='depthwise',\n",
       "              importance_type=None, interaction_constraints='',\n",
       "              learning_rate=0.300000012, max_bin=256, max_cat_to_onehot=4,\n",
       "              max_delta_step=0, max_depth=6, max_leaves=0, min_child_weight=1,\n",
       "              missing=nan, monotone_constraints='()', n_estimators=100, n_jobs=0,\n",
       "              num_parallel_tree=1, predictor='auto', random_state=0, reg_alpha=0,\n",
       "              reg_lambda=1, ...),\n",
       " 'LinearRegression()': LinearRegression()}"
      ]
     },
     "execution_count": 20,
     "metadata": {},
     "output_type": "execute_result"
    }
   ],
   "source": [
    "trained_models"
   ]
  },
  {
   "cell_type": "code",
   "execution_count": 33,
   "id": "1a794921-01b7-48c6-a06d-cea1b8826b73",
   "metadata": {},
   "outputs": [],
   "source": [
    "booster = trained_models['XGBRegressor'].get_booster()\n",
    "tree_df = booster.trees_to_dataframe()\n",
    "# tree_df[tree_df['Tree'] == 0]"
   ]
  },
  {
   "cell_type": "code",
   "execution_count": 34,
   "id": "1982bc7c-38c6-4700-8f9a-afde3d811d14",
   "metadata": {},
   "outputs": [],
   "source": [
    "# import json\n",
    "# def item_generator(json_input, lookup_key):\n",
    "#     if isinstance(json_input, dict):\n",
    "#         for k, v in json_input.items():\n",
    "#             if k == lookup_key:\n",
    "#                 yield v\n",
    "#             else:\n",
    "#                 yield from item_generator(v, lookup_key)\n",
    "#     elif isinstance(json_input, list):\n",
    "#         for item in json_input:\n",
    "#             yield from item_generator(item, lookup_key)\n",
    "\n",
    "# def tree_depth(json_text):\n",
    "#     json_input = json.loads(json_text)\n",
    "#     return max(list(item_generator(json_input, 'depth'))) + 1\n",
    "\n",
    "# [tree_depth(x) for x in booster.get_dump(dump_format = \"json\")]"
   ]
  },
  {
   "cell_type": "code",
   "execution_count": 36,
   "id": "962abb84-c8c1-4d1a-8cbf-c51320b3f7f2",
   "metadata": {},
   "outputs": [],
   "source": [
    "# avg_tree_depth = 0\n",
    "# count = 0\n",
    "# total = 0\n",
    "# for estimator in trained_models['DecisionTreeRegressor()'].estimators_:\n",
    "#     count += 1\n",
    "#     total += estimator.tree_.max_depth\n",
    "# total/count"
   ]
  },
  {
   "cell_type": "code",
   "execution_count": 15,
   "id": "5967f4a9-30b8-4b78-baf2-7581ec1b07a5",
   "metadata": {},
   "outputs": [
    {
     "name": "stdout",
     "output_type": "stream",
     "text": [
      "RandomForestRegressor()\n",
      "RandomForestRegressor(n_estimators=10)\n",
      "DecisionTreeRegressor()\n",
      "SVR()\n",
      "XGBRegressor(base_score=None, booster=None, callbacks=None,\n",
      "             colsample_bylevel=None, colsample_bynode=None,\n",
      "             colsample_bytree=None, early_stopping_rounds=None,\n",
      "             enable_categorical=False, eval_metric=None, gamma=None,\n",
      "             gpu_id=None, grow_policy=None, importance_type=None,\n",
      "             interaction_constraints=None, learning_rate=None, max_bin=None,\n",
      "             max_cat_to_onehot=None, max_delta_step=None, max_depth=None,\n",
      "             max_leaves=None, min_child_weight=None, missing=nan,\n",
      "             monotone_constraints=None, n_estimators=100, n_jobs=None,\n",
      "             num_parallel_tree=None, predictor=None, random_state=None,\n",
      "             reg_alpha=None, reg_lambda=None, ...)\n",
      "LinearRegression()\n",
      "RandomForestRegressor()\n",
      "RandomForestRegressor(n_estimators=10)\n",
      "DecisionTreeRegressor()\n",
      "SVR()\n",
      "XGBRegressor(base_score=0.5, booster='gbtree', callbacks=None,\n",
      "             colsample_bylevel=1, colsample_bynode=1, colsample_bytree=1,\n",
      "             early_stopping_rounds=None, enable_categorical=False,\n",
      "             eval_metric=None, gamma=0, gpu_id=-1, grow_policy='depthwise',\n",
      "             importance_type=None, interaction_constraints='',\n",
      "             learning_rate=0.300000012, max_bin=256, max_cat_to_onehot=4,\n",
      "             max_delta_step=0, max_depth=6, max_leaves=0, min_child_weight=1,\n",
      "             missing=nan, monotone_constraints='()', n_estimators=100, n_jobs=0,\n",
      "             num_parallel_tree=1, predictor='auto', random_state=0, reg_alpha=0,\n",
      "             reg_lambda=1, ...)\n",
      "LinearRegression()\n",
      "RandomForestRegressor()\n",
      "RandomForestRegressor(n_estimators=10)\n",
      "DecisionTreeRegressor()\n",
      "SVR()\n",
      "XGBRegressor(base_score=0.5, booster='gbtree', callbacks=None,\n",
      "             colsample_bylevel=1, colsample_bynode=1, colsample_bytree=1,\n",
      "             early_stopping_rounds=None, enable_categorical=False,\n",
      "             eval_metric=None, gamma=0, gpu_id=-1, grow_policy='depthwise',\n",
      "             importance_type=None, interaction_constraints='',\n",
      "             learning_rate=0.300000012, max_bin=256, max_cat_to_onehot=4,\n",
      "             max_delta_step=0, max_depth=6, max_leaves=0, min_child_weight=1,\n",
      "             missing=nan, monotone_constraints='()', n_estimators=100, n_jobs=0,\n",
      "             num_parallel_tree=1, predictor='auto', random_state=0, reg_alpha=0,\n",
      "             reg_lambda=1, ...)\n",
      "LinearRegression()\n",
      "RandomForestRegressor()\n",
      "RandomForestRegressor(n_estimators=10)\n",
      "DecisionTreeRegressor()\n",
      "SVR()\n",
      "XGBRegressor(base_score=0.5, booster='gbtree', callbacks=None,\n",
      "             colsample_bylevel=1, colsample_bynode=1, colsample_bytree=1,\n",
      "             early_stopping_rounds=None, enable_categorical=False,\n",
      "             eval_metric=None, gamma=0, gpu_id=-1, grow_policy='depthwise',\n",
      "             importance_type=None, interaction_constraints='',\n",
      "             learning_rate=0.300000012, max_bin=256, max_cat_to_onehot=4,\n",
      "             max_delta_step=0, max_depth=6, max_leaves=0, min_child_weight=1,\n",
      "             missing=nan, monotone_constraints='()', n_estimators=100, n_jobs=0,\n",
      "             num_parallel_tree=1, predictor='auto', random_state=0, reg_alpha=0,\n",
      "             reg_lambda=1, ...)\n",
      "LinearRegression()\n"
     ]
    }
   ],
   "source": [
    "result, trained_models = all_environments()"
   ]
  },
  {
   "cell_type": "code",
   "execution_count": 101,
   "id": "17f81be2-fb03-4f93-9882-7c4ef48a21ca",
   "metadata": {},
   "outputs": [],
   "source": [
    "# result.to_pickle('results/multichannel.pkl')"
   ]
  },
  {
   "cell_type": "code",
   "execution_count": 106,
   "id": "19b2a81b-7211-43f7-b22a-734b2773b32b",
   "metadata": {},
   "outputs": [],
   "source": [
    "def stripplot():\n",
    "    # aoanet= [4.831005,4.991831,5.408162,5.551577]\n",
    "    result = pd.read_pickle('results/multichannel.pkl')\n",
    "    # result = all_environments()\n",
    "    result.rename(columns={'pdda': 'PDDA', 'aoanet': 'AoANet', 'Modified aoanet':'Modified AoANet'}, inplace=True)\n",
    "    \n",
    "    model_names = ['PDDA', 'Linear Regression', 'SVR', 'Decision Tree', 'RF10', 'XGBoost', 'RF100', 'Modified AoANet','AoANet']\n",
    "    result.index = ['PDDA', 'Linear Regression', 'SVR', 'Decision Tree', 'RF10', 'XGBoost', 'RF100','Modified AoANet','AoANet']\n",
    "    subset = result.loc[model_names]\n",
    "    df_melted = subset.reset_index().melt(id_vars='index')\n",
    "    df_melted = df_melted.rename(columns={'index': 'Model', 'value': 'MAE', 'variable':'Environment'})\n",
    "\n",
    "    # figure 3\n",
    "    data = result.loc[model_names]\n",
    "    sns.set_theme(style=\"whitegrid\")\n",
    "    plt.figure(figsize=(15,8))\n",
    "    plt.title('Average MAE for All Envirnments using 3 Channels')\n",
    "    ax = sns.stripplot(data=df_melted, x='Model', y='MAE', hue='Environment', size=7)\n",
    "    ax.set_ylim([4,10])\n",
    "    plt.savefig('figures/Figure3/panel1/models_stripplot_multichannel.png')\n",
    "    plt.savefig('figures/Figure3/panel1/models_stripplot_multichannel.pdf', bbox_inches='tight')\n",
    "\n",
    "    plt.show()"
   ]
  },
  {
   "cell_type": "code",
   "execution_count": 107,
   "id": "c4320ccd-6ac6-489d-a8f9-94e4189b1418",
   "metadata": {},
   "outputs": [
    {
     "data": {
      "image/png": "[encoded data removed]",
      "text/plain": [
       "<Figure size 1500x800 with 1 Axes>"
      ]
     },
     "metadata": {},
     "output_type": "display_data"
    }
   ],
   "source": [
    "stripplot()"
   ]
  },
  {
   "cell_type": "code",
   "execution_count": 136,
   "id": "6e2a92cb-d91e-4509-ad36-f5f22d4eaead",
   "metadata": {},
   "outputs": [
    {
     "name": "stdout",
     "output_type": "stream",
     "text": [
      "RandomForestRegressor()\n"
     ]
    },
    {
     "ename": "KeyboardInterrupt",
     "evalue": "",
     "output_type": "error",
     "traceback": [
      "\u001b[0;31m---------------------------------------------------------------------------\u001b[0m",
      "\u001b[0;31mKeyboardInterrupt\u001b[0m                         Traceback (most recent call last)",
      "Input \u001b[0;32mIn [136]\u001b[0m, in \u001b[0;36m<cell line: 7>\u001b[0;34m()\u001b[0m\n\u001b[1;32m      4\u001b[0m environment \u001b[38;5;241m=\u001b[39m select_polarity(environment)\n\u001b[1;32m      5\u001b[0m environment \u001b[38;5;241m=\u001b[39m combine_features(environment)\n\u001b[0;32m----> 7\u001b[0m results, anchor_mae, pdda_error, trained_models \u001b[38;5;241m=\u001b[39m \u001b[43mtrain\u001b[49m\u001b[43m(\u001b[49m\u001b[43menvironment\u001b[49m\u001b[43m,\u001b[49m\u001b[43m \u001b[49m\u001b[43mmodels\u001b[49m\u001b[43m,\u001b[49m\u001b[43m \u001b[49m\u001b[43mmetrics\u001b[49m\u001b[43m)\u001b[49m\n",
      "Input \u001b[0;32mIn [67]\u001b[0m, in \u001b[0;36mtrain\u001b[0;34m(df, models, metrics)\u001b[0m\n\u001b[1;32m     40\u001b[0m \u001b[38;5;66;03m# learn the trainer on the train set and apply for testing set\u001b[39;00m\n\u001b[1;32m     41\u001b[0m regr \u001b[38;5;241m=\u001b[39m model\n\u001b[0;32m---> 42\u001b[0m \u001b[43mregr\u001b[49m\u001b[38;5;241;43m.\u001b[39;49m\u001b[43mfit\u001b[49m\u001b[43m(\u001b[49m\u001b[43mX_train\u001b[49m\u001b[43m,\u001b[49m\u001b[43my_train\u001b[49m\u001b[43m)\u001b[49m\n\u001b[1;32m     43\u001b[0m \u001b[38;5;28;01mif\u001b[39;00m \u001b[38;5;28mstr\u001b[39m(model) \u001b[38;5;129;01mnot\u001b[39;00m \u001b[38;5;129;01min\u001b[39;00m trained_models:\n\u001b[1;32m     44\u001b[0m     \u001b[38;5;28;01mif\u001b[39;00m \u001b[38;5;28mstr\u001b[39m(model)\u001b[38;5;241m.\u001b[39msplit(\u001b[38;5;124m\"\u001b[39m\u001b[38;5;124m(\u001b[39m\u001b[38;5;124m\"\u001b[39m)[\u001b[38;5;241m0\u001b[39m] \u001b[38;5;241m!=\u001b[39m \u001b[38;5;124m\"\u001b[39m\u001b[38;5;124mXGBRegressor\u001b[39m\u001b[38;5;124m\"\u001b[39m:\n",
      "File \u001b[0;32m~/opt/anaconda3/envs/AoA/lib/python3.10/site-packages/sklearn/ensemble/_forest.py:476\u001b[0m, in \u001b[0;36mBaseForest.fit\u001b[0;34m(self, X, y, sample_weight)\u001b[0m\n\u001b[1;32m    465\u001b[0m trees \u001b[38;5;241m=\u001b[39m [\n\u001b[1;32m    466\u001b[0m     \u001b[38;5;28mself\u001b[39m\u001b[38;5;241m.\u001b[39m_make_estimator(append\u001b[38;5;241m=\u001b[39m\u001b[38;5;28;01mFalse\u001b[39;00m, random_state\u001b[38;5;241m=\u001b[39mrandom_state)\n\u001b[1;32m    467\u001b[0m     \u001b[38;5;28;01mfor\u001b[39;00m i \u001b[38;5;129;01min\u001b[39;00m \u001b[38;5;28mrange\u001b[39m(n_more_estimators)\n\u001b[1;32m    468\u001b[0m ]\n\u001b[1;32m    470\u001b[0m \u001b[38;5;66;03m# Parallel loop: we prefer the threading backend as the Cython code\u001b[39;00m\n\u001b[1;32m    471\u001b[0m \u001b[38;5;66;03m# for fitting the trees is internally releasing the Python GIL\u001b[39;00m\n\u001b[1;32m    472\u001b[0m \u001b[38;5;66;03m# making threading more efficient than multiprocessing in\u001b[39;00m\n\u001b[1;32m    473\u001b[0m \u001b[38;5;66;03m# that case. However, for joblib 0.12+ we respect any\u001b[39;00m\n\u001b[1;32m    474\u001b[0m \u001b[38;5;66;03m# parallel_backend contexts set at a higher level,\u001b[39;00m\n\u001b[1;32m    475\u001b[0m \u001b[38;5;66;03m# since correctness does not rely on using threads.\u001b[39;00m\n\u001b[0;32m--> 476\u001b[0m trees \u001b[38;5;241m=\u001b[39m \u001b[43mParallel\u001b[49m\u001b[43m(\u001b[49m\n\u001b[1;32m    477\u001b[0m \u001b[43m    \u001b[49m\u001b[43mn_jobs\u001b[49m\u001b[38;5;241;43m=\u001b[39;49m\u001b[38;5;28;43mself\u001b[39;49m\u001b[38;5;241;43m.\u001b[39;49m\u001b[43mn_jobs\u001b[49m\u001b[43m,\u001b[49m\n\u001b[1;32m    478\u001b[0m \u001b[43m    \u001b[49m\u001b[43mverbose\u001b[49m\u001b[38;5;241;43m=\u001b[39;49m\u001b[38;5;28;43mself\u001b[39;49m\u001b[38;5;241;43m.\u001b[39;49m\u001b[43mverbose\u001b[49m\u001b[43m,\u001b[49m\n\u001b[1;32m    479\u001b[0m \u001b[43m    \u001b[49m\u001b[43mprefer\u001b[49m\u001b[38;5;241;43m=\u001b[39;49m\u001b[38;5;124;43m\"\u001b[39;49m\u001b[38;5;124;43mthreads\u001b[39;49m\u001b[38;5;124;43m\"\u001b[39;49m\u001b[43m,\u001b[49m\n\u001b[1;32m    480\u001b[0m \u001b[43m\u001b[49m\u001b[43m)\u001b[49m\u001b[43m(\u001b[49m\n\u001b[1;32m    481\u001b[0m \u001b[43m    \u001b[49m\u001b[43mdelayed\u001b[49m\u001b[43m(\u001b[49m\u001b[43m_parallel_build_trees\u001b[49m\u001b[43m)\u001b[49m\u001b[43m(\u001b[49m\n\u001b[1;32m    482\u001b[0m \u001b[43m        \u001b[49m\u001b[43mt\u001b[49m\u001b[43m,\u001b[49m\n\u001b[1;32m    483\u001b[0m \u001b[43m        \u001b[49m\u001b[38;5;28;43mself\u001b[39;49m\u001b[38;5;241;43m.\u001b[39;49m\u001b[43mbootstrap\u001b[49m\u001b[43m,\u001b[49m\n\u001b[1;32m    484\u001b[0m \u001b[43m        \u001b[49m\u001b[43mX\u001b[49m\u001b[43m,\u001b[49m\n\u001b[1;32m    485\u001b[0m \u001b[43m        \u001b[49m\u001b[43my\u001b[49m\u001b[43m,\u001b[49m\n\u001b[1;32m    486\u001b[0m \u001b[43m        \u001b[49m\u001b[43msample_weight\u001b[49m\u001b[43m,\u001b[49m\n\u001b[1;32m    487\u001b[0m \u001b[43m        \u001b[49m\u001b[43mi\u001b[49m\u001b[43m,\u001b[49m\n\u001b[1;32m    488\u001b[0m \u001b[43m        \u001b[49m\u001b[38;5;28;43mlen\u001b[39;49m\u001b[43m(\u001b[49m\u001b[43mtrees\u001b[49m\u001b[43m)\u001b[49m\u001b[43m,\u001b[49m\n\u001b[1;32m    489\u001b[0m \u001b[43m        \u001b[49m\u001b[43mverbose\u001b[49m\u001b[38;5;241;43m=\u001b[39;49m\u001b[38;5;28;43mself\u001b[39;49m\u001b[38;5;241;43m.\u001b[39;49m\u001b[43mverbose\u001b[49m\u001b[43m,\u001b[49m\n\u001b[1;32m    490\u001b[0m \u001b[43m        \u001b[49m\u001b[43mclass_weight\u001b[49m\u001b[38;5;241;43m=\u001b[39;49m\u001b[38;5;28;43mself\u001b[39;49m\u001b[38;5;241;43m.\u001b[39;49m\u001b[43mclass_weight\u001b[49m\u001b[43m,\u001b[49m\n\u001b[1;32m    491\u001b[0m \u001b[43m        \u001b[49m\u001b[43mn_samples_bootstrap\u001b[49m\u001b[38;5;241;43m=\u001b[39;49m\u001b[43mn_samples_bootstrap\u001b[49m\u001b[43m,\u001b[49m\n\u001b[1;32m    492\u001b[0m \u001b[43m    \u001b[49m\u001b[43m)\u001b[49m\n\u001b[1;32m    493\u001b[0m \u001b[43m    \u001b[49m\u001b[38;5;28;43;01mfor\u001b[39;49;00m\u001b[43m \u001b[49m\u001b[43mi\u001b[49m\u001b[43m,\u001b[49m\u001b[43m \u001b[49m\u001b[43mt\u001b[49m\u001b[43m \u001b[49m\u001b[38;5;129;43;01min\u001b[39;49;00m\u001b[43m \u001b[49m\u001b[38;5;28;43menumerate\u001b[39;49m\u001b[43m(\u001b[49m\u001b[43mtrees\u001b[49m\u001b[43m)\u001b[49m\n\u001b[1;32m    494\u001b[0m \u001b[43m\u001b[49m\u001b[43m)\u001b[49m\n\u001b[1;32m    496\u001b[0m \u001b[38;5;66;03m# Collect newly grown trees\u001b[39;00m\n\u001b[1;32m    497\u001b[0m \u001b[38;5;28mself\u001b[39m\u001b[38;5;241m.\u001b[39mestimators_\u001b[38;5;241m.\u001b[39mextend(trees)\n",
      "File \u001b[0;32m~/opt/anaconda3/envs/AoA/lib/python3.10/site-packages/joblib/parallel.py:1088\u001b[0m, in \u001b[0;36mParallel.__call__\u001b[0;34m(self, iterable)\u001b[0m\n\u001b[1;32m   1085\u001b[0m \u001b[38;5;28;01mif\u001b[39;00m \u001b[38;5;28mself\u001b[39m\u001b[38;5;241m.\u001b[39mdispatch_one_batch(iterator):\n\u001b[1;32m   1086\u001b[0m     \u001b[38;5;28mself\u001b[39m\u001b[38;5;241m.\u001b[39m_iterating \u001b[38;5;241m=\u001b[39m \u001b[38;5;28mself\u001b[39m\u001b[38;5;241m.\u001b[39m_original_iterator \u001b[38;5;129;01mis\u001b[39;00m \u001b[38;5;129;01mnot\u001b[39;00m \u001b[38;5;28;01mNone\u001b[39;00m\n\u001b[0;32m-> 1088\u001b[0m \u001b[38;5;28;01mwhile\u001b[39;00m \u001b[38;5;28;43mself\u001b[39;49m\u001b[38;5;241;43m.\u001b[39;49m\u001b[43mdispatch_one_batch\u001b[49m\u001b[43m(\u001b[49m\u001b[43miterator\u001b[49m\u001b[43m)\u001b[49m:\n\u001b[1;32m   1089\u001b[0m     \u001b[38;5;28;01mpass\u001b[39;00m\n\u001b[1;32m   1091\u001b[0m \u001b[38;5;28;01mif\u001b[39;00m pre_dispatch \u001b[38;5;241m==\u001b[39m \u001b[38;5;124m\"\u001b[39m\u001b[38;5;124mall\u001b[39m\u001b[38;5;124m\"\u001b[39m \u001b[38;5;129;01mor\u001b[39;00m n_jobs \u001b[38;5;241m==\u001b[39m \u001b[38;5;241m1\u001b[39m:\n\u001b[1;32m   1092\u001b[0m     \u001b[38;5;66;03m# The iterable was consumed all at once by the above for loop.\u001b[39;00m\n\u001b[1;32m   1093\u001b[0m     \u001b[38;5;66;03m# No need to wait for async callbacks to trigger to\u001b[39;00m\n\u001b[1;32m   1094\u001b[0m     \u001b[38;5;66;03m# consumption.\u001b[39;00m\n",
      "File \u001b[0;32m~/opt/anaconda3/envs/AoA/lib/python3.10/site-packages/joblib/parallel.py:901\u001b[0m, in \u001b[0;36mParallel.dispatch_one_batch\u001b[0;34m(self, iterator)\u001b[0m\n\u001b[1;32m    899\u001b[0m     \u001b[38;5;28;01mreturn\u001b[39;00m \u001b[38;5;28;01mFalse\u001b[39;00m\n\u001b[1;32m    900\u001b[0m \u001b[38;5;28;01melse\u001b[39;00m:\n\u001b[0;32m--> 901\u001b[0m     \u001b[38;5;28;43mself\u001b[39;49m\u001b[38;5;241;43m.\u001b[39;49m\u001b[43m_dispatch\u001b[49m\u001b[43m(\u001b[49m\u001b[43mtasks\u001b[49m\u001b[43m)\u001b[49m\n\u001b[1;32m    902\u001b[0m     \u001b[38;5;28;01mreturn\u001b[39;00m \u001b[38;5;28;01mTrue\u001b[39;00m\n",
      "File \u001b[0;32m~/opt/anaconda3/envs/AoA/lib/python3.10/site-packages/joblib/parallel.py:819\u001b[0m, in \u001b[0;36mParallel._dispatch\u001b[0;34m(self, batch)\u001b[0m\n\u001b[1;32m    817\u001b[0m \u001b[38;5;28;01mwith\u001b[39;00m \u001b[38;5;28mself\u001b[39m\u001b[38;5;241m.\u001b[39m_lock:\n\u001b[1;32m    818\u001b[0m     job_idx \u001b[38;5;241m=\u001b[39m \u001b[38;5;28mlen\u001b[39m(\u001b[38;5;28mself\u001b[39m\u001b[38;5;241m.\u001b[39m_jobs)\n\u001b[0;32m--> 819\u001b[0m     job \u001b[38;5;241m=\u001b[39m \u001b[38;5;28;43mself\u001b[39;49m\u001b[38;5;241;43m.\u001b[39;49m\u001b[43m_backend\u001b[49m\u001b[38;5;241;43m.\u001b[39;49m\u001b[43mapply_async\u001b[49m\u001b[43m(\u001b[49m\u001b[43mbatch\u001b[49m\u001b[43m,\u001b[49m\u001b[43m \u001b[49m\u001b[43mcallback\u001b[49m\u001b[38;5;241;43m=\u001b[39;49m\u001b[43mcb\u001b[49m\u001b[43m)\u001b[49m\n\u001b[1;32m    820\u001b[0m     \u001b[38;5;66;03m# A job can complete so quickly than its callback is\u001b[39;00m\n\u001b[1;32m    821\u001b[0m     \u001b[38;5;66;03m# called before we get here, causing self._jobs to\u001b[39;00m\n\u001b[1;32m    822\u001b[0m     \u001b[38;5;66;03m# grow. To ensure correct results ordering, .insert is\u001b[39;00m\n\u001b[1;32m    823\u001b[0m     \u001b[38;5;66;03m# used (rather than .append) in the following line\u001b[39;00m\n\u001b[1;32m    824\u001b[0m     \u001b[38;5;28mself\u001b[39m\u001b[38;5;241m.\u001b[39m_jobs\u001b[38;5;241m.\u001b[39minsert(job_idx, job)\n",
      "File \u001b[0;32m~/opt/anaconda3/envs/AoA/lib/python3.10/site-packages/joblib/_parallel_backends.py:208\u001b[0m, in \u001b[0;36mSequentialBackend.apply_async\u001b[0;34m(self, func, callback)\u001b[0m\n\u001b[1;32m    206\u001b[0m \u001b[38;5;28;01mdef\u001b[39;00m \u001b[38;5;21mapply_async\u001b[39m(\u001b[38;5;28mself\u001b[39m, func, callback\u001b[38;5;241m=\u001b[39m\u001b[38;5;28;01mNone\u001b[39;00m):\n\u001b[1;32m    207\u001b[0m     \u001b[38;5;124;03m\"\"\"Schedule a func to be run\"\"\"\u001b[39;00m\n\u001b[0;32m--> 208\u001b[0m     result \u001b[38;5;241m=\u001b[39m \u001b[43mImmediateResult\u001b[49m\u001b[43m(\u001b[49m\u001b[43mfunc\u001b[49m\u001b[43m)\u001b[49m\n\u001b[1;32m    209\u001b[0m     \u001b[38;5;28;01mif\u001b[39;00m callback:\n\u001b[1;32m    210\u001b[0m         callback(result)\n",
      "File \u001b[0;32m~/opt/anaconda3/envs/AoA/lib/python3.10/site-packages/joblib/_parallel_backends.py:597\u001b[0m, in \u001b[0;36mImmediateResult.__init__\u001b[0;34m(self, batch)\u001b[0m\n\u001b[1;32m    594\u001b[0m \u001b[38;5;28;01mdef\u001b[39;00m \u001b[38;5;21m__init__\u001b[39m(\u001b[38;5;28mself\u001b[39m, batch):\n\u001b[1;32m    595\u001b[0m     \u001b[38;5;66;03m# Don't delay the application, to avoid keeping the input\u001b[39;00m\n\u001b[1;32m    596\u001b[0m     \u001b[38;5;66;03m# arguments in memory\u001b[39;00m\n\u001b[0;32m--> 597\u001b[0m     \u001b[38;5;28mself\u001b[39m\u001b[38;5;241m.\u001b[39mresults \u001b[38;5;241m=\u001b[39m \u001b[43mbatch\u001b[49m\u001b[43m(\u001b[49m\u001b[43m)\u001b[49m\n",
      "File \u001b[0;32m~/opt/anaconda3/envs/AoA/lib/python3.10/site-packages/joblib/parallel.py:288\u001b[0m, in \u001b[0;36mBatchedCalls.__call__\u001b[0;34m(self)\u001b[0m\n\u001b[1;32m    284\u001b[0m \u001b[38;5;28;01mdef\u001b[39;00m \u001b[38;5;21m__call__\u001b[39m(\u001b[38;5;28mself\u001b[39m):\n\u001b[1;32m    285\u001b[0m     \u001b[38;5;66;03m# Set the default nested backend to self._backend but do not set the\u001b[39;00m\n\u001b[1;32m    286\u001b[0m     \u001b[38;5;66;03m# change the default number of processes to -1\u001b[39;00m\n\u001b[1;32m    287\u001b[0m     \u001b[38;5;28;01mwith\u001b[39;00m parallel_backend(\u001b[38;5;28mself\u001b[39m\u001b[38;5;241m.\u001b[39m_backend, n_jobs\u001b[38;5;241m=\u001b[39m\u001b[38;5;28mself\u001b[39m\u001b[38;5;241m.\u001b[39m_n_jobs):\n\u001b[0;32m--> 288\u001b[0m         \u001b[38;5;28;01mreturn\u001b[39;00m [func(\u001b[38;5;241m*\u001b[39margs, \u001b[38;5;241m*\u001b[39m\u001b[38;5;241m*\u001b[39mkwargs)\n\u001b[1;32m    289\u001b[0m                 \u001b[38;5;28;01mfor\u001b[39;00m func, args, kwargs \u001b[38;5;129;01min\u001b[39;00m \u001b[38;5;28mself\u001b[39m\u001b[38;5;241m.\u001b[39mitems]\n",
      "File \u001b[0;32m~/opt/anaconda3/envs/AoA/lib/python3.10/site-packages/joblib/parallel.py:288\u001b[0m, in \u001b[0;36m<listcomp>\u001b[0;34m(.0)\u001b[0m\n\u001b[1;32m    284\u001b[0m \u001b[38;5;28;01mdef\u001b[39;00m \u001b[38;5;21m__call__\u001b[39m(\u001b[38;5;28mself\u001b[39m):\n\u001b[1;32m    285\u001b[0m     \u001b[38;5;66;03m# Set the default nested backend to self._backend but do not set the\u001b[39;00m\n\u001b[1;32m    286\u001b[0m     \u001b[38;5;66;03m# change the default number of processes to -1\u001b[39;00m\n\u001b[1;32m    287\u001b[0m     \u001b[38;5;28;01mwith\u001b[39;00m parallel_backend(\u001b[38;5;28mself\u001b[39m\u001b[38;5;241m.\u001b[39m_backend, n_jobs\u001b[38;5;241m=\u001b[39m\u001b[38;5;28mself\u001b[39m\u001b[38;5;241m.\u001b[39m_n_jobs):\n\u001b[0;32m--> 288\u001b[0m         \u001b[38;5;28;01mreturn\u001b[39;00m [\u001b[43mfunc\u001b[49m\u001b[43m(\u001b[49m\u001b[38;5;241;43m*\u001b[39;49m\u001b[43margs\u001b[49m\u001b[43m,\u001b[49m\u001b[43m \u001b[49m\u001b[38;5;241;43m*\u001b[39;49m\u001b[38;5;241;43m*\u001b[39;49m\u001b[43mkwargs\u001b[49m\u001b[43m)\u001b[49m\n\u001b[1;32m    289\u001b[0m                 \u001b[38;5;28;01mfor\u001b[39;00m func, args, kwargs \u001b[38;5;129;01min\u001b[39;00m \u001b[38;5;28mself\u001b[39m\u001b[38;5;241m.\u001b[39mitems]\n",
      "File \u001b[0;32m~/opt/anaconda3/envs/AoA/lib/python3.10/site-packages/sklearn/utils/fixes.py:117\u001b[0m, in \u001b[0;36m_FuncWrapper.__call__\u001b[0;34m(self, *args, **kwargs)\u001b[0m\n\u001b[1;32m    115\u001b[0m \u001b[38;5;28;01mdef\u001b[39;00m \u001b[38;5;21m__call__\u001b[39m(\u001b[38;5;28mself\u001b[39m, \u001b[38;5;241m*\u001b[39margs, \u001b[38;5;241m*\u001b[39m\u001b[38;5;241m*\u001b[39mkwargs):\n\u001b[1;32m    116\u001b[0m     \u001b[38;5;28;01mwith\u001b[39;00m config_context(\u001b[38;5;241m*\u001b[39m\u001b[38;5;241m*\u001b[39m\u001b[38;5;28mself\u001b[39m\u001b[38;5;241m.\u001b[39mconfig):\n\u001b[0;32m--> 117\u001b[0m         \u001b[38;5;28;01mreturn\u001b[39;00m \u001b[38;5;28;43mself\u001b[39;49m\u001b[38;5;241;43m.\u001b[39;49m\u001b[43mfunction\u001b[49m\u001b[43m(\u001b[49m\u001b[38;5;241;43m*\u001b[39;49m\u001b[43margs\u001b[49m\u001b[43m,\u001b[49m\u001b[43m \u001b[49m\u001b[38;5;241;43m*\u001b[39;49m\u001b[38;5;241;43m*\u001b[39;49m\u001b[43mkwargs\u001b[49m\u001b[43m)\u001b[49m\n",
      "File \u001b[0;32m~/opt/anaconda3/envs/AoA/lib/python3.10/site-packages/sklearn/ensemble/_forest.py:189\u001b[0m, in \u001b[0;36m_parallel_build_trees\u001b[0;34m(tree, bootstrap, X, y, sample_weight, tree_idx, n_trees, verbose, class_weight, n_samples_bootstrap)\u001b[0m\n\u001b[1;32m    186\u001b[0m     \u001b[38;5;28;01melif\u001b[39;00m class_weight \u001b[38;5;241m==\u001b[39m \u001b[38;5;124m\"\u001b[39m\u001b[38;5;124mbalanced_subsample\u001b[39m\u001b[38;5;124m\"\u001b[39m:\n\u001b[1;32m    187\u001b[0m         curr_sample_weight \u001b[38;5;241m*\u001b[39m\u001b[38;5;241m=\u001b[39m compute_sample_weight(\u001b[38;5;124m\"\u001b[39m\u001b[38;5;124mbalanced\u001b[39m\u001b[38;5;124m\"\u001b[39m, y, indices\u001b[38;5;241m=\u001b[39mindices)\n\u001b[0;32m--> 189\u001b[0m     \u001b[43mtree\u001b[49m\u001b[38;5;241;43m.\u001b[39;49m\u001b[43mfit\u001b[49m\u001b[43m(\u001b[49m\u001b[43mX\u001b[49m\u001b[43m,\u001b[49m\u001b[43m \u001b[49m\u001b[43my\u001b[49m\u001b[43m,\u001b[49m\u001b[43m \u001b[49m\u001b[43msample_weight\u001b[49m\u001b[38;5;241;43m=\u001b[39;49m\u001b[43mcurr_sample_weight\u001b[49m\u001b[43m,\u001b[49m\u001b[43m \u001b[49m\u001b[43mcheck_input\u001b[49m\u001b[38;5;241;43m=\u001b[39;49m\u001b[38;5;28;43;01mFalse\u001b[39;49;00m\u001b[43m)\u001b[49m\n\u001b[1;32m    190\u001b[0m \u001b[38;5;28;01melse\u001b[39;00m:\n\u001b[1;32m    191\u001b[0m     tree\u001b[38;5;241m.\u001b[39mfit(X, y, sample_weight\u001b[38;5;241m=\u001b[39msample_weight, check_input\u001b[38;5;241m=\u001b[39m\u001b[38;5;28;01mFalse\u001b[39;00m)\n",
      "File \u001b[0;32m~/opt/anaconda3/envs/AoA/lib/python3.10/site-packages/sklearn/tree/_classes.py:1342\u001b[0m, in \u001b[0;36mDecisionTreeRegressor.fit\u001b[0;34m(self, X, y, sample_weight, check_input)\u001b[0m\n\u001b[1;32m   1313\u001b[0m \u001b[38;5;28;01mdef\u001b[39;00m \u001b[38;5;21mfit\u001b[39m(\u001b[38;5;28mself\u001b[39m, X, y, sample_weight\u001b[38;5;241m=\u001b[39m\u001b[38;5;28;01mNone\u001b[39;00m, check_input\u001b[38;5;241m=\u001b[39m\u001b[38;5;28;01mTrue\u001b[39;00m):\n\u001b[1;32m   1314\u001b[0m     \u001b[38;5;124;03m\"\"\"Build a decision tree regressor from the training set (X, y).\u001b[39;00m\n\u001b[1;32m   1315\u001b[0m \n\u001b[1;32m   1316\u001b[0m \u001b[38;5;124;03m    Parameters\u001b[39;00m\n\u001b[0;32m   (...)\u001b[0m\n\u001b[1;32m   1339\u001b[0m \u001b[38;5;124;03m        Fitted estimator.\u001b[39;00m\n\u001b[1;32m   1340\u001b[0m \u001b[38;5;124;03m    \"\"\"\u001b[39;00m\n\u001b[0;32m-> 1342\u001b[0m     \u001b[38;5;28;43msuper\u001b[39;49m\u001b[43m(\u001b[49m\u001b[43m)\u001b[49m\u001b[38;5;241;43m.\u001b[39;49m\u001b[43mfit\u001b[49m\u001b[43m(\u001b[49m\n\u001b[1;32m   1343\u001b[0m \u001b[43m        \u001b[49m\u001b[43mX\u001b[49m\u001b[43m,\u001b[49m\n\u001b[1;32m   1344\u001b[0m \u001b[43m        \u001b[49m\u001b[43my\u001b[49m\u001b[43m,\u001b[49m\n\u001b[1;32m   1345\u001b[0m \u001b[43m        \u001b[49m\u001b[43msample_weight\u001b[49m\u001b[38;5;241;43m=\u001b[39;49m\u001b[43msample_weight\u001b[49m\u001b[43m,\u001b[49m\n\u001b[1;32m   1346\u001b[0m \u001b[43m        \u001b[49m\u001b[43mcheck_input\u001b[49m\u001b[38;5;241;43m=\u001b[39;49m\u001b[43mcheck_input\u001b[49m\u001b[43m,\u001b[49m\n\u001b[1;32m   1347\u001b[0m \u001b[43m    \u001b[49m\u001b[43m)\u001b[49m\n\u001b[1;32m   1348\u001b[0m     \u001b[38;5;28;01mreturn\u001b[39;00m \u001b[38;5;28mself\u001b[39m\n",
      "File \u001b[0;32m~/opt/anaconda3/envs/AoA/lib/python3.10/site-packages/sklearn/tree/_classes.py:458\u001b[0m, in \u001b[0;36mBaseDecisionTree.fit\u001b[0;34m(self, X, y, sample_weight, check_input)\u001b[0m\n\u001b[1;32m    447\u001b[0m \u001b[38;5;28;01melse\u001b[39;00m:\n\u001b[1;32m    448\u001b[0m     builder \u001b[38;5;241m=\u001b[39m BestFirstTreeBuilder(\n\u001b[1;32m    449\u001b[0m         splitter,\n\u001b[1;32m    450\u001b[0m         min_samples_split,\n\u001b[0;32m   (...)\u001b[0m\n\u001b[1;32m    455\u001b[0m         \u001b[38;5;28mself\u001b[39m\u001b[38;5;241m.\u001b[39mmin_impurity_decrease,\n\u001b[1;32m    456\u001b[0m     )\n\u001b[0;32m--> 458\u001b[0m \u001b[43mbuilder\u001b[49m\u001b[38;5;241;43m.\u001b[39;49m\u001b[43mbuild\u001b[49m\u001b[43m(\u001b[49m\u001b[38;5;28;43mself\u001b[39;49m\u001b[38;5;241;43m.\u001b[39;49m\u001b[43mtree_\u001b[49m\u001b[43m,\u001b[49m\u001b[43m \u001b[49m\u001b[43mX\u001b[49m\u001b[43m,\u001b[49m\u001b[43m \u001b[49m\u001b[43my\u001b[49m\u001b[43m,\u001b[49m\u001b[43m \u001b[49m\u001b[43msample_weight\u001b[49m\u001b[43m)\u001b[49m\n\u001b[1;32m    460\u001b[0m \u001b[38;5;28;01mif\u001b[39;00m \u001b[38;5;28mself\u001b[39m\u001b[38;5;241m.\u001b[39mn_outputs_ \u001b[38;5;241m==\u001b[39m \u001b[38;5;241m1\u001b[39m \u001b[38;5;129;01mand\u001b[39;00m is_classifier(\u001b[38;5;28mself\u001b[39m):\n\u001b[1;32m    461\u001b[0m     \u001b[38;5;28mself\u001b[39m\u001b[38;5;241m.\u001b[39mn_classes_ \u001b[38;5;241m=\u001b[39m \u001b[38;5;28mself\u001b[39m\u001b[38;5;241m.\u001b[39mn_classes_[\u001b[38;5;241m0\u001b[39m]\n",
      "\u001b[0;31mKeyboardInterrupt\u001b[0m: "
     ]
    }
   ],
   "source": [
    "environment = df[df['room'] == 'testbench_01_furniture_mid']\n",
    "environment = iq_processing(environment)\n",
    "environment = scale(environment)\n",
    "environment = select_polarity(environment)\n",
    "environment = combine_features(environment)\n",
    "\n",
    "results, anchor_mae, pdda_error, trained_models = train(environment, models, metrics)\n",
    "        "
   ]
  },
  {
   "cell_type": "code",
   "execution_count": 118,
   "id": "1af12d1e-67ce-4825-866c-8b4d1a4c92b5",
   "metadata": {},
   "outputs": [
    {
     "data": {
      "text/plain": [
       "array([-1.06498225, -1.02169505, -0.88210107,  0.36731684, -0.34239239,\n",
       "        0.43721337, -0.24015097, -0.44909086,  0.0101671 , -0.67371197,\n",
       "       -0.9594799 , -0.69148155, -0.46643819,  0.12041559,  0.08175228,\n",
       "        0.09414331, -0.08858204, -0.2395787 ,  0.37089802, -0.30053167,\n",
       "       -0.90672872, -0.53291384, -0.4952998 ,  0.15463726, -0.11381661,\n",
       "        0.10600844, -0.53721834, -0.38098864, -0.16580797,  0.08724365])"
      ]
     },
     "execution_count": 118,
     "metadata": {},
     "output_type": "execute_result"
    }
   ],
   "source": [
    "environment[new_features].values[0]"
   ]
  },
  {
   "cell_type": "code",
   "execution_count": 119,
   "id": "5cb9363b-caa4-4825-a6c8-aa7c668e5400",
   "metadata": {},
   "outputs": [
    {
     "data": {
      "text/plain": [
       "45.0"
      ]
     },
     "execution_count": 119,
     "metadata": {},
     "output_type": "execute_result"
    }
   ],
   "source": [
    "environment['true_phi'].values[0]"
   ]
  },
  {
   "cell_type": "code",
   "execution_count": 125,
   "id": "8ebfc9e9-41c4-4fbe-9063-91ea36ac4105",
   "metadata": {},
   "outputs": [
    {
     "data": {
      "text/plain": [
       "array([-16.090067, -31.970781, -34.043396, ..., -19.799982, -20.136278,\n",
       "       -19.16629 ], dtype=float32)"
      ]
     },
     "execution_count": 125,
     "metadata": {},
     "output_type": "execute_result"
    }
   ],
   "source": [
    "trained_models['XGBRegressor'].predict(environment[new_features])"
   ]
  },
  {
   "cell_type": "code",
   "execution_count": 113,
   "id": "4200099c-994a-4604-8e9c-2768b2e93313",
   "metadata": {},
   "outputs": [],
   "source": [
    "import sys\n",
    "\n",
    "sys.setrecursionlimit(2147483647)"
   ]
  },
  {
   "cell_type": "code",
   "execution_count": 114,
   "id": "f3fd0dd1-eca5-4f31-98ae-ba14a610fc2c",
   "metadata": {},
   "outputs": [],
   "source": [
    "def convert_models(trained_models):\n",
    "    \n",
    "    for model_name,model in trained_models.items():\n",
    "        try:\n",
    "            code = m2c.export_to_c(model)\n",
    "            with open('converted_models/multichannel/'+model_name+'.h', 'w') as file:\n",
    "                # file.write(port(model))\n",
    "                 file.write(code)\n",
    "        except Exception as e:\n",
    "            print(\"could not convert \"+model_name)\n",
    "            print(e)"
   ]
  },
  {
   "cell_type": "code",
   "execution_count": 115,
   "id": "24d4db2a-3509-482a-8a6a-6a4082259e3e",
   "metadata": {},
   "outputs": [],
   "source": [
    "convert_models(trained_models)"
   ]
  },
  {
   "cell_type": "code",
   "execution_count": 1,
   "id": "93a7b4fc-f1ed-4235-860f-31d55b848982",
   "metadata": {},
   "outputs": [],
   "source": [
    "model_sizes = {\"RF100\": (1490000-166968) * (2**(-10)), \"RF10\": (591888-166968) * (2**(-10)), \"Decision Tree\":  (233480-166968) * (2**(-10)) , \n",
    "               \"Linear Regression\": (169584-166968) * (2**(-10))+10, \"SVR\": (1050000-166968) * (2**(-10)), \"XGBoost\": (351552-166968)* (2**(-10)), \n",
    "               \"AoANet\": 1650, \"Modified AoANet\":1035716*(2**(-10))}\n"
   ]
  },
  {
   "cell_type": "code",
   "execution_count": 2,
   "id": "5d887d2f-1ece-46d5-9cd5-ca30fbb27cf4",
   "metadata": {},
   "outputs": [],
   "source": [
    "multichannel_model_sizes = {'XGBoost': 180.140625,\n",
    " 'RF10': 414.84375,\n",
    " 'Decision Tree': 65.984375,\n",
    " 'Linear Regression': 2.5546875,\n",
    " 'SVR': 2520.5390625,\n",
    " 'RF100': 2908.9453125,\n",
    " 'AoANet': 2097.93359375,\n",
    " 'Modified AoANet': 848.38671875}"
   ]
  },
  {
   "cell_type": "code",
   "execution_count": 57,
   "id": "be9df4c6-1666-48e8-97bf-098a595aaab3",
   "metadata": {},
   "outputs": [
    {
     "data": {
      "text/plain": [
       "{'XGBoost': 180.140625,\n",
       " 'RF10': 414.84375,\n",
       " 'Decision Tree': 65.984375,\n",
       " 'Linear Regression': 11.4,\n",
       " 'SVR': 1600,\n",
       " 'RF100': 1650.5,\n",
       " 'AoANet': 1550,\n",
       " 'Modified AoANet': 848.38671875}"
      ]
     },
     "execution_count": 57,
     "metadata": {},
     "output_type": "execute_result"
    }
   ],
   "source": [
    "multichannel_model_sizes"
   ]
  },
  {
   "cell_type": "code",
   "execution_count": 87,
   "id": "aa5d3e62-d463-4464-9ea0-ba89c2208032",
   "metadata": {},
   "outputs": [
    {
     "data": {
      "image/png": "[encoded data removed]",
      "text/plain": [
       "<Figure size 1500x800 with 1 Axes>"
      ]
     },
     "metadata": {},
     "output_type": "display_data"
    }
   ],
   "source": [
    "plt.close()\n",
    "multichannel_model_sizes = {'XGBoost': 180.140625,\n",
    " 'RF10': 414.84375,\n",
    " 'Decision Tree': 65.984375,\n",
    " 'Linear Regression': 11.4,\n",
    " 'SVR': 1680,\n",
    " # 'RF100': 1650.5,\n",
    " 'AoANet': 1550,\n",
    " 'Modified AoANet': 848.38671875}\n",
    "\n",
    "result = pd.read_pickle('results/multichannel.pkl')\n",
    "result.index = ['PDDA', 'Linear Regression', 'SVR', 'Decision Tree', 'RF10', 'XGBoost', 'RF100', 'AoANet','Modified AoANet']\n",
    "    \n",
    "# 1266676 *(2**(-10))+ 1024\n",
    "# model_sizes = {\"RF100\": 1490000 * (2**(-10)), \"RF10\": 504408 * (2**(-10)), \"Decision Tree\":  62168 * 0.001, \"Linear Regression\": 1672 * (2**(-10))+10, \"SVR\": 1050000 * (2**(-10)), \"XGBoost\": 183320* (2**(-10)), \"AoANet\": 1650, \"Modified AoANet\":1035716*(2**(-10))}\n",
    "model_sizes = multichannel_model_sizes\n",
    "data = pd.DataFrame.from_dict(model_sizes, orient=\"index\")\n",
    "temp = pd.DataFrame()\n",
    "temp['MAE'] = result.mean(axis=1)\n",
    "merged = pd.concat([temp,data], axis=1)\n",
    "merged.reset_index(inplace=True)\n",
    "merged.columns = [\"Model\",\"MAE\", \"Size in KB\"]\n",
    "merged = merged[merged['Size in KB'].notna()]\n",
    "import matplotlib.transforms as transforms\n",
    "plt.figure(figsize=(15,8))\n",
    "\n",
    "ax = sns.scatterplot(data=merged, y=\"Size in KB\", x=\"MAE\", hue ='Model',s=70)\n",
    "plt.axhline(y=1024, linestyle=':', color='red')\n",
    "trans = transforms.blended_transform_factory(\n",
    "    ax.get_yticklabels()[0].get_transform(), ax.transData)\n",
    "ax.text(0,1024, \"{:.0f}\".format(1024), color=\"red\", transform=trans, \n",
    "        ha=\"right\", va=\"center\")\n",
    "\n",
    "ax.set_ylim(0, 1700)\n",
    "# plt.ylim(left=0)\n",
    "\n",
    "plt.yticks([0,  512, 512])\n",
    "def label_point(x, y, val, ax):\n",
    "    a = pd.concat({'x': x, 'y': y, 'val': val}, axis=1)\n",
    "    for i, point in a.iterrows():\n",
    "        if 1650 <= point['y'] < 1651:\n",
    "            print('a')\n",
    "            # point['val'] = 35.23\n",
    "            # print(point['y'])\n",
    "            # ax.text(point['x']+.02, 1650, '{0}'.format((2260)))\n",
    "        elif 11 <= point['y'] < 12:\n",
    "            ax.text(point['x']+.02, point['y'], '{0:.2f}'.format(2.55))\n",
    "        elif 1680 <= point['y'] < 1681:\n",
    "            ax.text(point['x']+.02, 1680, '{0:.2f}'.format(2520.5390625))\n",
    "        elif 1550 <= point['y'] < 1551:\n",
    "            ax.text(point['x']+.02, point['y'], '{0:.2f}'.format(2097.93359375))\n",
    "        else:\n",
    "            ax.text(point['x']+.02, point['y'], '{0:.2f}'.format((point['val'])))\n",
    "\n",
    "label_point(merged[\"MAE\"], merged[\"Size in KB\"], merged[\"Size in KB\"], ax)\n",
    "plt.legend(loc='upper center')\n",
    "plt.title('Comparision of Model Sizes using 3 Channels')\n",
    "# ax.set_ylim(bottom=None, top=7)\n",
    "# plt.ylim(0,1.6)\n",
    "plt.savefig(\"figures/sizes/multi_size_performace_multi.pdf\", bbox_inches='tight')\n",
    "plt.savefig('figures/sizes/multi_size_performace_multi.png',format=\"png\")\n",
    "plt.show()"
   ]
  },
  {
   "cell_type": "code",
   "execution_count": null,
   "id": "bddf1808-acbb-4b2c-8e23-5f13b7862c5c",
   "metadata": {},
   "outputs": [],
   "source": [
    "model_sizes = {\"RF100\": (1490000-166968) * (2**(-10)), \"RF10\": (642872-166968) * (2**(-10)), \"Decision Tree\":  (235992-166968) * (2**(-10)) , \n",
    "               \"Linear Regression\": (169584-166968) * (2**(-10))+10, \"SVR\": (1050000-166968) * (2**(-10)), \"XGBoost\": (344456-166968)* (2**(-10)), \n",
    "               \"AoANet\": 1650, \"Modified AoANet\":1035716*(2**(-10))}"
   ]
  },
  {
   "cell_type": "code",
   "execution_count": 19,
   "id": "0695f2ad-fef7-41fe-af71-7180f9e79cce",
   "metadata": {},
   "outputs": [],
   "source": [
    "base = 166968"
   ]
  },
  {
   "cell_type": "code",
   "execution_count": 59,
   "id": "91366e86-b6a6-4798-8881-0ebf85394eab",
   "metadata": {},
   "outputs": [],
   "source": [
    "multichannel_model_sizes = {\n",
    "    \"XGBoost\":351432,\n",
    "    \"RF10\": 591768,\n",
    "    \"Decision Tree\":234536,\n",
    "    \"Linear Regression\":169584,\n",
    "    \"SVR\":1699424+1048576,\n",
    "    \"RF100\":3*1048576,\n",
    "    \"AoANet\":1266676 +1048576,\n",
    "    \"Modified AoANet\":1035716,\n",
    "}"
   ]
  },
  {
   "cell_type": "code",
   "execution_count": 29,
   "id": "21ae778e-ea48-4711-b837-9cb177c513a6",
   "metadata": {},
   "outputs": [],
   "source": [
    "singlechannel_model_sizes = {\n",
    "    \"XGBoost\":344456,\n",
    "    \"RF10\": 594216,\n",
    "    \"Decision Tree\":219416,\n",
    "    \"Linear Regression\":168664,\n",
    "    \"SVR\":955816,\n",
    "    \"RF100\": 3*1048576,\n",
    "}"
   ]
  },
  {
   "cell_type": "code",
   "execution_count": 30,
   "id": "bfceece9-a9d1-42e9-adf4-37e141e7aeae",
   "metadata": {},
   "outputs": [],
   "source": [
    "for k,v in singlechannel_model_sizes.items():\n",
    "    singlechannel_model_sizes[k] = (v-base) *(2**(-10))"
   ]
  },
  {
   "cell_type": "code",
   "execution_count": 46,
   "id": "aca51c07-7264-4e78-9e97-cce0ca612b12",
   "metadata": {},
   "outputs": [
    {
     "data": {
      "text/plain": [
       "{'XGBoost': 173.328125,\n",
       " 'RF10': 417.234375,\n",
       " 'Decision Tree': 51.21875,\n",
       " 'Linear Regression': 11,\n",
       " 'SVR': 770.359375,\n",
       " 'PDDA': 35.21484375}"
      ]
     },
     "execution_count": 46,
     "metadata": {},
     "output_type": "execute_result"
    }
   ],
   "source": [
    "singlechannel_model_sizes"
   ]
  },
  {
   "cell_type": "code",
   "execution_count": 88,
   "id": "68cebf65-07d9-48a9-b639-3c2bfbfa13b3",
   "metadata": {},
   "outputs": [
    {
     "data": {
      "text/plain": [
       "{'XGBoost': 173.328125,\n",
       " 'RF10': 417.234375,\n",
       " 'Decision Tree': 51.21875,\n",
       " 'Linear Regression': 11,\n",
       " 'SVR': 770.359375,\n",
       " 'PDDA': 35.21484375,\n",
       " 'RF100': 1650}"
      ]
     },
     "execution_count": 88,
     "metadata": {},
     "output_type": "execute_result"
    }
   ],
   "source": [
    "singlechannel_model_sizes"
   ]
  },
  {
   "cell_type": "code",
   "execution_count": 45,
   "id": "c1849b32-a456-4ea4-b8ae-aa6b53e11790",
   "metadata": {},
   "outputs": [],
   "source": [
    "singlechannel_model_sizes['PDDA'] = 36060*(2**(-10))"
   ]
  },
  {
   "cell_type": "code",
   "execution_count": 89,
   "id": "9f36a640-3038-462d-8882-c5c459bcce38",
   "metadata": {},
   "outputs": [],
   "source": [
    "del singlechannel_model_sizes['RF100']"
   ]
  },
  {
   "cell_type": "code",
   "execution_count": 48,
   "id": "e57e1ff3-592a-44f4-a90a-45ca7edf160b",
   "metadata": {},
   "outputs": [],
   "source": [
    "singlechannel_model_sizes['Linear Regression'] = 11\n",
    "singlechannel_model_sizes['RF100'] = 1650"
   ]
  },
  {
   "cell_type": "code",
   "execution_count": 61,
   "id": "675f52ed-891d-4bd2-bbad-f1f416e62c5a",
   "metadata": {},
   "outputs": [
    {
     "data": {
      "text/plain": [
       "{'XGBoost': 180.140625,\n",
       " 'RF10': 414.84375,\n",
       " 'Decision Tree': 65.984375,\n",
       " 'Linear Regression': 2.5546875,\n",
       " 'SVR': 2520.5390625,\n",
       " 'RF100': 2908.9453125,\n",
       " 'AoANet': 2097.93359375,\n",
       " 'Modified AoANet': 848.38671875}"
      ]
     },
     "execution_count": 61,
     "metadata": {},
     "output_type": "execute_result"
    }
   ],
   "source": [
    "multichannel_model_sizes"
   ]
  },
  {
   "cell_type": "code",
   "execution_count": 60,
   "id": "b241334e-07ca-4582-b62e-bfc6667436a0",
   "metadata": {},
   "outputs": [],
   "source": [
    "for k,v in multichannel_model_sizes.items():\n",
    "    multichannel_model_sizes[k] = (v-base) *(2**(-10))"
   ]
  },
  {
   "cell_type": "code",
   "execution_count": 12,
   "id": "b0626340-db4e-40a1-b418-13f699c83c3b",
   "metadata": {},
   "outputs": [],
   "source": [
    "model_sizes = singlechannel_model_sizes"
   ]
  },
  {
   "cell_type": "code",
   "execution_count": 177,
   "id": "942f4048-874e-4da5-bea9-d7d7608db75c",
   "metadata": {},
   "outputs": [],
   "source": [
    "model_sizes = {'XGBoost': 173.328125,\n",
    " 'RF10': 417.234375,\n",
    " 'Decision Tree': 51.21875,\n",
    " 'Linear Regression': 11.65625,\n",
    " 'SVR': 770.359375,\n",
    " 'RF100': 1650}"
   ]
  },
  {
   "cell_type": "code",
   "execution_count": 90,
   "id": "d948b86b-1195-4c6d-a83f-d1dc62e15dbb",
   "metadata": {},
   "outputs": [
    {
     "name": "stdout",
     "output_type": "stream",
     "text": [
      "gela\n"
     ]
    },
    {
     "data": {
      "image/png": "[encoded data removed]",
      "text/plain": [
       "<Figure size 1500x800 with 1 Axes>"
      ]
     },
     "metadata": {},
     "output_type": "display_data"
    }
   ],
   "source": [
    "plt.close()\n",
    "result = pd.read_pickle('results/figure3_panel1.pkl')\n",
    "result.index = ['PDDA', 'Linear Regression', 'SVR', 'Decision Tree', 'RF10', 'XGBoost', 'RF100', 'AoANet','Modified AoANet']\n",
    "    \n",
    "# 1266676 *(2**(-10))+ 1024\n",
    "model_sizes = singlechannel_model_sizes\n",
    "data = pd.DataFrame.from_dict(model_sizes, orient=\"index\")\n",
    "temp = pd.DataFrame()\n",
    "temp['MAE'] = result.mean(axis=1)\n",
    "merged = pd.concat([temp,data], axis=1)\n",
    "merged.reset_index(inplace=True)\n",
    "merged.columns = [\"Model\",\"MAE\", \"Size in KB\"]\n",
    "merged = merged[merged['Size in KB'].notna()]\n",
    "import matplotlib.transforms as transforms\n",
    "plt.figure(figsize=(15,8))\n",
    "\n",
    "ax = sns.scatterplot(data=merged, y=\"Size in KB\", x=\"MAE\", hue ='Model',s=70)\n",
    "plt.axhline(y=1024, linestyle=':', color='red')\n",
    "trans = transforms.blended_transform_factory(\n",
    "    ax.get_yticklabels()[0].get_transform(), ax.transData)\n",
    "ax.text(0,1024, \"{:.0f}\".format(1024), color=\"red\", transform=trans, \n",
    "        ha=\"right\", va=\"center\")\n",
    "\n",
    "ax.set_ylim(0, 1700)\n",
    "# plt.ylim(left=0)\n",
    "\n",
    "plt.yticks([0,  512, 512])\n",
    "def label_point(x, y, val, ax):\n",
    "    a = pd.concat({'x': x, 'y': y, 'val': val}, axis=1)\n",
    "    for i, point in a.iterrows():\n",
    "        # print(point['y'] )\n",
    "        if 1650 <= point['y'] < 1651:\n",
    "            print('a')\n",
    "            point['val'] = 35.23\n",
    "            print(point['y'])\n",
    "            ax.text(point['x']+.02, 1650, '{0}'.format((2260)))\n",
    "        elif 11 <= point['y'] < 12:\n",
    "            print('gela')\n",
    "            ax.text(point['x']+.02, point['y'], '{0:.2f}'.format(1.65))\n",
    "        else:\n",
    "            ax.text(point['x']+.02, point['y'], '{0:.2f}'.format((point['val'])))\n",
    "\n",
    "label_point(merged[\"MAE\"], merged[\"Size in KB\"], merged[\"Size in KB\"], ax)\n",
    "plt.legend(loc='upper right')\n",
    "plt.title('Comparision of Model Sizes using Single Channel')\n",
    "# ax.set_ylim(bottom=None, top=7)\n",
    "# plt.ylim(0,1.6)\n",
    "plt.savefig(\"figures/sizes/single_size_performace.pdf\", bbox_inches='tight')\n",
    "plt.savefig('figures/sizes/single_size_performace.png',format=\"png\")\n",
    "plt.show()"
   ]
  },
  {
   "cell_type": "code",
   "execution_count": null,
   "id": "a86534db-9528-4ab0-8c32-5b06701602e7",
   "metadata": {},
   "outputs": [],
   "source": []
  }
 ],
 "metadata": {
  "kernelspec": {
   "display_name": "Python 3 (ipykernel)",
   "language": "python",
   "name": "python3"
  },
  "language_info": {
   "codemirror_mode": {
    "name": "ipython",
    "version": 3
   },
   "file_extension": ".py",
   "mimetype": "text/x-python",
   "name": "python",
   "nbconvert_exporter": "python",
   "pygments_lexer": "ipython3",
   "version": "3.10.4"
  }
 },
 "nbformat": 4,
 "nbformat_minor": 5
}
